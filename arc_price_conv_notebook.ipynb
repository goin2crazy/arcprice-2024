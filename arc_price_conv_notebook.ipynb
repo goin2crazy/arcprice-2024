{
 "cells": [
  {
   "cell_type": "code",
   "execution_count": 1,
   "id": "cda589ff",
   "metadata": {
    "execution": {
     "iopub.execute_input": "2024-06-25T21:03:14.839613Z",
     "iopub.status.busy": "2024-06-25T21:03:14.838983Z",
     "iopub.status.idle": "2024-06-25T21:03:14.859630Z",
     "shell.execute_reply": "2024-06-25T21:03:14.857534Z"
    },
    "papermill": {
     "duration": 0.033281,
     "end_time": "2024-06-25T21:03:14.862828",
     "exception": false,
     "start_time": "2024-06-25T21:03:14.829547",
     "status": "completed"
    },
    "tags": []
   },
   "outputs": [],
   "source": [
    "class Config: \n",
    "    \"\"\"\n",
    "    In this competition the matrix size is from 2x2 to 30x30\n",
    "    and maximum 5-6 examples of solutions \n",
    "    \"\"\"\n",
    "    \n",
    "    \n",
    "    train = {'inputs': '/kaggle/input/arc-prize-2024/arc-agi_training_challenges.json',\n",
    "             'outputs': '/kaggle/input/arc-prize-2024/arc-agi_training_solutions.json'}\n",
    "    validation = {'inputs': '/kaggle/input/arc-prize-2024/arc-agi_evaluation_challenges.json', \n",
    "                  'outputs': '/kaggle/input/arc-prize-2024/arc-agi_evaluation_solutions.json'}\n",
    "    test = {'inputs': '/kaggle/input/arc-prize-2024/arc-agi_test_challenges.json'}\n",
    "    \n",
    "    max_size = (30, 30)\n",
    "    max_channels = 10\n",
    "    num_epoch = 100\n",
    "    batch_size = 16\n",
    "    buffer_size = 8\n",
    "    \n",
    "cfg = Config() "
   ]
  },
  {
   "cell_type": "code",
   "execution_count": 2,
   "id": "4643c74c",
   "metadata": {
    "_cell_guid": "b1076dfc-b9ad-4769-8c92-a6c4dae69d19",
    "_uuid": "8f2839f25d086af736a60e9eeb907d3b93b6e0e5",
    "execution": {
     "iopub.execute_input": "2024-06-25T21:03:14.877738Z",
     "iopub.status.busy": "2024-06-25T21:03:14.877189Z",
     "iopub.status.idle": "2024-06-25T21:03:33.857271Z",
     "shell.execute_reply": "2024-06-25T21:03:33.855505Z"
    },
    "papermill": {
     "duration": 18.991652,
     "end_time": "2024-06-25T21:03:33.860807",
     "exception": false,
     "start_time": "2024-06-25T21:03:14.869155",
     "status": "completed"
    },
    "tags": []
   },
   "outputs": [
    {
     "name": "stderr",
     "output_type": "stream",
     "text": [
      "2024-06-25 21:03:17.778564: E external/local_xla/xla/stream_executor/cuda/cuda_dnn.cc:9261] Unable to register cuDNN factory: Attempting to register factory for plugin cuDNN when one has already been registered\n",
      "2024-06-25 21:03:17.778772: E external/local_xla/xla/stream_executor/cuda/cuda_fft.cc:607] Unable to register cuFFT factory: Attempting to register factory for plugin cuFFT when one has already been registered\n",
      "2024-06-25 21:03:17.988175: E external/local_xla/xla/stream_executor/cuda/cuda_blas.cc:1515] Unable to register cuBLAS factory: Attempting to register factory for plugin cuBLAS when one has already been registered\n"
     ]
    }
   ],
   "source": [
    "import numpy as np \n",
    "import json \n",
    "\n",
    "from tensorflow.data import Dataset \n",
    "import tensorflow as tf \n",
    "\n",
    "from tensorflow.keras import layers \n",
    "import keras"
   ]
  },
  {
   "cell_type": "markdown",
   "id": "a02f70e4",
   "metadata": {
    "papermill": {
     "duration": 0.005957,
     "end_time": "2024-06-25T21:03:33.873050",
     "exception": false,
     "start_time": "2024-06-25T21:03:33.867093",
     "status": "completed"
    },
    "tags": []
   },
   "source": [
    "# Data Preparation "
   ]
  },
  {
   "cell_type": "code",
   "execution_count": 3,
   "id": "1b738f56",
   "metadata": {
    "execution": {
     "iopub.execute_input": "2024-06-25T21:03:33.888263Z",
     "iopub.status.busy": "2024-06-25T21:03:33.887341Z",
     "iopub.status.idle": "2024-06-25T21:03:35.228809Z",
     "shell.execute_reply": "2024-06-25T21:03:35.226807Z"
    },
    "papermill": {
     "duration": 1.353306,
     "end_time": "2024-06-25T21:03:35.232545",
     "exception": false,
     "start_time": "2024-06-25T21:03:33.879239",
     "status": "completed"
    },
    "tags": []
   },
   "outputs": [],
   "source": [
    "import cv2 \n",
    "\n",
    "def size_to_30(i, key = 'input', target_size = None, for_tf = True):\n",
    "    if type(i) == dict: \n",
    "        arr = np.array(i[key])\n",
    "    else: \n",
    "        arr = np.array(i)\n",
    "        \n",
    "    if target_size == None: \n",
    "        target_size = cfg.max_size\n",
    "    # Convert arr to cv2 image (assuming arr is in a format compatible with OpenCV)\n",
    "    img = arr.astype(np.uint8)\n",
    "    # Resize the image to 30x30 using cubic interpolation\n",
    "    img_resized = cv2.resize(img, target_size, interpolation=cv2.INTER_NEAREST)\n",
    "    # Convert the resized image back to a NumPy array\n",
    "    if for_tf: \n",
    "        return tf.convert_to_tensor(img_resized)\n",
    "    else:\n",
    "        return img_resized\n",
    "\n",
    "\n",
    "def prepare_inputs(path, only_one = True): \n",
    "    input_data = {\n",
    "        'test_inputs': list(), \n",
    "        'train_inputs': list(), \n",
    "        'train_outputs': list()}  \n",
    "    \n",
    "    with open(path, mode='r') as file: \n",
    "        data = json.load(file)\n",
    "        file.close() \n",
    "    \n",
    "    for v in data.values(): \n",
    "        if only_one: \n",
    "            input_data['test_inputs'].append([size_to_30(i) for i in v['test'][:1]])\n",
    "            input_data['train_inputs'].append([size_to_30(i) for i in v['train'][:1]])\n",
    "            input_data['train_outputs'].append([size_to_30(i, 'output') for i in v['train'][:1]])\n",
    "        else: \n",
    "            test_inputs = [size_to_30(i) for i in v['test']]\n",
    "            input_data['test_inputs'].extend([[i] for i in test_inputs])\n",
    "            \n",
    "            num_test_inputs = len(test_inputs)\n",
    "            \n",
    "            train_inputs = [size_to_30(i) for i in v['train'][:1]]\n",
    "            train_outputs = [size_to_30(i, 'output') for i in v['train'][:1]]\n",
    "            for i in range(num_test_inputs): \n",
    "                input_data['train_inputs'].append(train_inputs)\n",
    "                input_data['train_outputs'].append(train_outputs)\n",
    "        \n",
    "    return input_data \n",
    "    \n",
    "def prepare_outputs(path, only_one = True): \n",
    "    output_data = list()\n",
    "    \n",
    "    with open(path, mode='r') as file: \n",
    "        data = json.load(file)\n",
    "        file.close() \n",
    "        \n",
    "    for v in data.values(): \n",
    "        if only_one: \n",
    "            output_data.append([size_to_30(i) for i in v[:1]])\n",
    "        else: \n",
    "            output_data.extend([[size_to_30(i)] for i in v])\n",
    "            \n",
    "    return output_data\n",
    "\n",
    "def prepare1(data_path_item, only_one = True):\n",
    "    inputs = None \n",
    "    outputs = None \n",
    "    \n",
    "    \n",
    "    if 'inputs' in data_path_item.keys(): \n",
    "        inputs = data_path_item['inputs']\n",
    "        \n",
    "        inputs = prepare_inputs(inputs, only_one)\n",
    "        \n",
    "    if 'outputs' in data_path_item.keys(): \n",
    "        outputs = data_path_item[\"outputs\"]\n",
    "        \n",
    "        outputs = prepare_outputs(outputs, only_one)\n",
    "        \n",
    "    return inputs, outputs \n",
    "\n",
    "X_train, y_train = prepare1(cfg.train, only_one = False)\n",
    "X_validation, y_validation = prepare1(cfg.validation, only_one = False )\n",
    "# test = prepare1(cfg.test)"
   ]
  },
  {
   "cell_type": "markdown",
   "id": "3df398c4",
   "metadata": {
    "papermill": {
     "duration": 0.00607,
     "end_time": "2024-06-25T21:03:35.245360",
     "exception": false,
     "start_time": "2024-06-25T21:03:35.239290",
     "status": "completed"
    },
    "tags": []
   },
   "source": [
    "# To Dataset "
   ]
  },
  {
   "cell_type": "code",
   "execution_count": 4,
   "id": "095d5f60",
   "metadata": {
    "execution": {
     "iopub.execute_input": "2024-06-25T21:03:35.262041Z",
     "iopub.status.busy": "2024-06-25T21:03:35.260282Z",
     "iopub.status.idle": "2024-06-25T21:03:36.257663Z",
     "shell.execute_reply": "2024-06-25T21:03:36.256217Z"
    },
    "papermill": {
     "duration": 1.009492,
     "end_time": "2024-06-25T21:03:36.261122",
     "exception": false,
     "start_time": "2024-06-25T21:03:35.251630",
     "status": "completed"
    },
    "tags": []
   },
   "outputs": [],
   "source": [
    "def add_channels(item): \n",
    "    \"\"\"\n",
    "    item is 30x30 matrix which is tensor with shape [1, 30, 30]\n",
    "    \n",
    "    This function returns this tensors with shape [1, 30, 30, 9]\n",
    "    \"\"\"\n",
    "    \n",
    "    num_classes = cfg.max_channels\n",
    "    \n",
    "    item_with_channels = tf.one_hot(item, num_classes)\n",
    "    \n",
    "    return item_with_channels \n",
    "\n",
    "def build_dataset(X, y = None, batch = True, shuffle = True): \n",
    "    ds_input = (\n",
    "        Dataset.from_tensor_slices({**X})\n",
    "      .map(lambda i: {k: tf.squeeze(v) for k, v in i.items()})\n",
    "      .map(lambda i: {k: add_channels(v) for k, v in i.items()}))\n",
    "    \n",
    "    if y != None: \n",
    "        ds_output = (Dataset.from_tensor_slices(y)\n",
    "          .map(lambda i: tf.squeeze(i))\n",
    "          .map(lambda i: add_channels(i))\n",
    "                    )\n",
    "    \n",
    "        ds = Dataset.zip((ds_input, ds_output))\n",
    "    \n",
    "    else: \n",
    "        ds = ds_input\n",
    "    \n",
    "    if shuffle == True: \n",
    "        ds = ds.shuffle(cfg.buffer_size)\n",
    "    \n",
    "    if batch == True: \n",
    "        ds = ds.batch(cfg.batch_size)\n",
    "            \n",
    "    return ds.prefetch(cfg.buffer_size)\n",
    "    \n",
    "ds_train = build_dataset(X_train, y_train)\n",
    "ds_validation = build_dataset(X_validation, y_validation)"
   ]
  },
  {
   "cell_type": "markdown",
   "id": "e81c6109",
   "metadata": {
    "papermill": {
     "duration": 0.006993,
     "end_time": "2024-06-25T21:03:36.275742",
     "exception": false,
     "start_time": "2024-06-25T21:03:36.268749",
     "status": "completed"
    },
    "tags": []
   },
   "source": [
    "# Model"
   ]
  },
  {
   "cell_type": "code",
   "execution_count": 5,
   "id": "5f475b2b",
   "metadata": {
    "execution": {
     "iopub.execute_input": "2024-06-25T21:03:36.292595Z",
     "iopub.status.busy": "2024-06-25T21:03:36.292101Z",
     "iopub.status.idle": "2024-06-25T21:03:37.879995Z",
     "shell.execute_reply": "2024-06-25T21:03:37.878570Z"
    },
    "papermill": {
     "duration": 1.599951,
     "end_time": "2024-06-25T21:03:37.883458",
     "exception": false,
     "start_time": "2024-06-25T21:03:36.283507",
     "status": "completed"
    },
    "tags": []
   },
   "outputs": [
    {
     "data": {
      "text/html": [
       "<pre style=\"white-space:pre;overflow-x:auto;line-height:normal;font-family:Menlo,'DejaVu Sans Mono',consolas,'Courier New',monospace\"><span style=\"font-weight: bold\">Model: \"functional_1\"</span>\n",
       "</pre>\n"
      ],
      "text/plain": [
       "\u001b[1mModel: \"functional_1\"\u001b[0m\n"
      ]
     },
     "metadata": {},
     "output_type": "display_data"
    },
    {
     "data": {
      "text/html": [
       "<pre style=\"white-space:pre;overflow-x:auto;line-height:normal;font-family:Menlo,'DejaVu Sans Mono',consolas,'Courier New',monospace\">┏━━━━━━━━━━━━━━━━━━━━━┳━━━━━━━━━━━━━━━━━━━┳━━━━━━━━━━━━┳━━━━━━━━━━━━━━━━━━━┓\n",
       "┃<span style=\"font-weight: bold\"> Layer (type)        </span>┃<span style=\"font-weight: bold\"> Output Shape      </span>┃<span style=\"font-weight: bold\">    Param # </span>┃<span style=\"font-weight: bold\"> Connected to      </span>┃\n",
       "┡━━━━━━━━━━━━━━━━━━━━━╇━━━━━━━━━━━━━━━━━━━╇━━━━━━━━━━━━╇━━━━━━━━━━━━━━━━━━━┩\n",
       "│ train_inputs        │ (<span style=\"color: #00d7ff; text-decoration-color: #00d7ff\">None</span>, <span style=\"color: #00af00; text-decoration-color: #00af00\">30</span>, <span style=\"color: #00af00; text-decoration-color: #00af00\">30</span>,    │          <span style=\"color: #00af00; text-decoration-color: #00af00\">0</span> │ -                 │\n",
       "│ (<span style=\"color: #0087ff; text-decoration-color: #0087ff\">InputLayer</span>)        │ <span style=\"color: #00af00; text-decoration-color: #00af00\">10</span>)               │            │                   │\n",
       "├─────────────────────┼───────────────────┼────────────┼───────────────────┤\n",
       "│ train_outputs       │ (<span style=\"color: #00d7ff; text-decoration-color: #00d7ff\">None</span>, <span style=\"color: #00af00; text-decoration-color: #00af00\">30</span>, <span style=\"color: #00af00; text-decoration-color: #00af00\">30</span>,    │          <span style=\"color: #00af00; text-decoration-color: #00af00\">0</span> │ -                 │\n",
       "│ (<span style=\"color: #0087ff; text-decoration-color: #0087ff\">InputLayer</span>)        │ <span style=\"color: #00af00; text-decoration-color: #00af00\">10</span>)               │            │                   │\n",
       "├─────────────────────┼───────────────────┼────────────┼───────────────────┤\n",
       "│ conv2d_2 (<span style=\"color: #0087ff; text-decoration-color: #0087ff\">Conv2D</span>)   │ (<span style=\"color: #00d7ff; text-decoration-color: #00d7ff\">None</span>, <span style=\"color: #00af00; text-decoration-color: #00af00\">30</span>, <span style=\"color: #00af00; text-decoration-color: #00af00\">30</span>,    │      <span style=\"color: #00af00; text-decoration-color: #00af00\">5,824</span> │ train_inputs[<span style=\"color: #00af00; text-decoration-color: #00af00\">0</span>][<span style=\"color: #00af00; text-decoration-color: #00af00\">…</span> │\n",
       "│                     │ <span style=\"color: #00af00; text-decoration-color: #00af00\">64</span>)               │            │                   │\n",
       "├─────────────────────┼───────────────────┼────────────┼───────────────────┤\n",
       "│ conv2d_3 (<span style=\"color: #0087ff; text-decoration-color: #0087ff\">Conv2D</span>)   │ (<span style=\"color: #00d7ff; text-decoration-color: #00d7ff\">None</span>, <span style=\"color: #00af00; text-decoration-color: #00af00\">30</span>, <span style=\"color: #00af00; text-decoration-color: #00af00\">30</span>,    │      <span style=\"color: #00af00; text-decoration-color: #00af00\">5,824</span> │ train_outputs[<span style=\"color: #00af00; text-decoration-color: #00af00\">0</span>]… │\n",
       "│                     │ <span style=\"color: #00af00; text-decoration-color: #00af00\">64</span>)               │            │                   │\n",
       "├─────────────────────┼───────────────────┼────────────┼───────────────────┤\n",
       "│ test_inputs         │ (<span style=\"color: #00d7ff; text-decoration-color: #00d7ff\">None</span>, <span style=\"color: #00af00; text-decoration-color: #00af00\">30</span>, <span style=\"color: #00af00; text-decoration-color: #00af00\">30</span>,    │          <span style=\"color: #00af00; text-decoration-color: #00af00\">0</span> │ -                 │\n",
       "│ (<span style=\"color: #0087ff; text-decoration-color: #0087ff\">InputLayer</span>)        │ <span style=\"color: #00af00; text-decoration-color: #00af00\">10</span>)               │            │                   │\n",
       "├─────────────────────┼───────────────────┼────────────┼───────────────────┤\n",
       "│ batch_normalizatio… │ (<span style=\"color: #00d7ff; text-decoration-color: #00d7ff\">None</span>, <span style=\"color: #00af00; text-decoration-color: #00af00\">30</span>, <span style=\"color: #00af00; text-decoration-color: #00af00\">30</span>,    │        <span style=\"color: #00af00; text-decoration-color: #00af00\">256</span> │ conv2d_2[<span style=\"color: #00af00; text-decoration-color: #00af00\">0</span>][<span style=\"color: #00af00; text-decoration-color: #00af00\">0</span>]    │\n",
       "│ (<span style=\"color: #0087ff; text-decoration-color: #0087ff\">BatchNormalizatio…</span> │ <span style=\"color: #00af00; text-decoration-color: #00af00\">64</span>)               │            │                   │\n",
       "├─────────────────────┼───────────────────┼────────────┼───────────────────┤\n",
       "│ batch_normalizatio… │ (<span style=\"color: #00d7ff; text-decoration-color: #00d7ff\">None</span>, <span style=\"color: #00af00; text-decoration-color: #00af00\">30</span>, <span style=\"color: #00af00; text-decoration-color: #00af00\">30</span>,    │        <span style=\"color: #00af00; text-decoration-color: #00af00\">256</span> │ conv2d_3[<span style=\"color: #00af00; text-decoration-color: #00af00\">0</span>][<span style=\"color: #00af00; text-decoration-color: #00af00\">0</span>]    │\n",
       "│ (<span style=\"color: #0087ff; text-decoration-color: #0087ff\">BatchNormalizatio…</span> │ <span style=\"color: #00af00; text-decoration-color: #00af00\">64</span>)               │            │                   │\n",
       "├─────────────────────┼───────────────────┼────────────┼───────────────────┤\n",
       "│ conv2d_5 (<span style=\"color: #0087ff; text-decoration-color: #0087ff\">Conv2D</span>)   │ (<span style=\"color: #00d7ff; text-decoration-color: #00d7ff\">None</span>, <span style=\"color: #00af00; text-decoration-color: #00af00\">30</span>, <span style=\"color: #00af00; text-decoration-color: #00af00\">30</span>,    │      <span style=\"color: #00af00; text-decoration-color: #00af00\">5,824</span> │ test_inputs[<span style=\"color: #00af00; text-decoration-color: #00af00\">0</span>][<span style=\"color: #00af00; text-decoration-color: #00af00\">0</span>] │\n",
       "│                     │ <span style=\"color: #00af00; text-decoration-color: #00af00\">64</span>)               │            │                   │\n",
       "├─────────────────────┼───────────────────┼────────────┼───────────────────┤\n",
       "│ layer_normalizatio… │ (<span style=\"color: #00d7ff; text-decoration-color: #00d7ff\">None</span>, <span style=\"color: #00af00; text-decoration-color: #00af00\">30</span>, <span style=\"color: #00af00; text-decoration-color: #00af00\">30</span>,    │        <span style=\"color: #00af00; text-decoration-color: #00af00\">128</span> │ batch_normalizat… │\n",
       "│ (<span style=\"color: #0087ff; text-decoration-color: #0087ff\">LayerNormalizatio…</span> │ <span style=\"color: #00af00; text-decoration-color: #00af00\">64</span>)               │            │                   │\n",
       "├─────────────────────┼───────────────────┼────────────┼───────────────────┤\n",
       "│ layer_normalizatio… │ (<span style=\"color: #00d7ff; text-decoration-color: #00d7ff\">None</span>, <span style=\"color: #00af00; text-decoration-color: #00af00\">30</span>, <span style=\"color: #00af00; text-decoration-color: #00af00\">30</span>,    │        <span style=\"color: #00af00; text-decoration-color: #00af00\">128</span> │ batch_normalizat… │\n",
       "│ (<span style=\"color: #0087ff; text-decoration-color: #0087ff\">LayerNormalizatio…</span> │ <span style=\"color: #00af00; text-decoration-color: #00af00\">64</span>)               │            │                   │\n",
       "├─────────────────────┼───────────────────┼────────────┼───────────────────┤\n",
       "│ batch_normalizatio… │ (<span style=\"color: #00d7ff; text-decoration-color: #00d7ff\">None</span>, <span style=\"color: #00af00; text-decoration-color: #00af00\">30</span>, <span style=\"color: #00af00; text-decoration-color: #00af00\">30</span>,    │        <span style=\"color: #00af00; text-decoration-color: #00af00\">256</span> │ conv2d_5[<span style=\"color: #00af00; text-decoration-color: #00af00\">0</span>][<span style=\"color: #00af00; text-decoration-color: #00af00\">0</span>]    │\n",
       "│ (<span style=\"color: #0087ff; text-decoration-color: #0087ff\">BatchNormalizatio…</span> │ <span style=\"color: #00af00; text-decoration-color: #00af00\">64</span>)               │            │                   │\n",
       "├─────────────────────┼───────────────────┼────────────┼───────────────────┤\n",
       "│ dropout_2 (<span style=\"color: #0087ff; text-decoration-color: #0087ff\">Dropout</span>) │ (<span style=\"color: #00d7ff; text-decoration-color: #00d7ff\">None</span>, <span style=\"color: #00af00; text-decoration-color: #00af00\">30</span>, <span style=\"color: #00af00; text-decoration-color: #00af00\">30</span>,    │          <span style=\"color: #00af00; text-decoration-color: #00af00\">0</span> │ layer_normalizat… │\n",
       "│                     │ <span style=\"color: #00af00; text-decoration-color: #00af00\">64</span>)               │            │                   │\n",
       "├─────────────────────┼───────────────────┼────────────┼───────────────────┤\n",
       "│ dropout_3 (<span style=\"color: #0087ff; text-decoration-color: #0087ff\">Dropout</span>) │ (<span style=\"color: #00d7ff; text-decoration-color: #00d7ff\">None</span>, <span style=\"color: #00af00; text-decoration-color: #00af00\">30</span>, <span style=\"color: #00af00; text-decoration-color: #00af00\">30</span>,    │          <span style=\"color: #00af00; text-decoration-color: #00af00\">0</span> │ layer_normalizat… │\n",
       "│                     │ <span style=\"color: #00af00; text-decoration-color: #00af00\">64</span>)               │            │                   │\n",
       "├─────────────────────┼───────────────────┼────────────┼───────────────────┤\n",
       "│ layer_normalizatio… │ (<span style=\"color: #00d7ff; text-decoration-color: #00d7ff\">None</span>, <span style=\"color: #00af00; text-decoration-color: #00af00\">30</span>, <span style=\"color: #00af00; text-decoration-color: #00af00\">30</span>,    │        <span style=\"color: #00af00; text-decoration-color: #00af00\">128</span> │ batch_normalizat… │\n",
       "│ (<span style=\"color: #0087ff; text-decoration-color: #0087ff\">LayerNormalizatio…</span> │ <span style=\"color: #00af00; text-decoration-color: #00af00\">64</span>)               │            │                   │\n",
       "├─────────────────────┼───────────────────┼────────────┼───────────────────┤\n",
       "│ add (<span style=\"color: #0087ff; text-decoration-color: #0087ff\">Add</span>)           │ (<span style=\"color: #00d7ff; text-decoration-color: #00d7ff\">None</span>, <span style=\"color: #00af00; text-decoration-color: #00af00\">30</span>, <span style=\"color: #00af00; text-decoration-color: #00af00\">30</span>,    │          <span style=\"color: #00af00; text-decoration-color: #00af00\">0</span> │ dropout_2[<span style=\"color: #00af00; text-decoration-color: #00af00\">0</span>][<span style=\"color: #00af00; text-decoration-color: #00af00\">0</span>],  │\n",
       "│                     │ <span style=\"color: #00af00; text-decoration-color: #00af00\">64</span>)               │            │ dropout_3[<span style=\"color: #00af00; text-decoration-color: #00af00\">0</span>][<span style=\"color: #00af00; text-decoration-color: #00af00\">0</span>]   │\n",
       "├─────────────────────┼───────────────────┼────────────┼───────────────────┤\n",
       "│ dropout_5 (<span style=\"color: #0087ff; text-decoration-color: #0087ff\">Dropout</span>) │ (<span style=\"color: #00d7ff; text-decoration-color: #00d7ff\">None</span>, <span style=\"color: #00af00; text-decoration-color: #00af00\">30</span>, <span style=\"color: #00af00; text-decoration-color: #00af00\">30</span>,    │          <span style=\"color: #00af00; text-decoration-color: #00af00\">0</span> │ layer_normalizat… │\n",
       "│                     │ <span style=\"color: #00af00; text-decoration-color: #00af00\">64</span>)               │            │                   │\n",
       "├─────────────────────┼───────────────────┼────────────┼───────────────────┤\n",
       "│ flatten (<span style=\"color: #0087ff; text-decoration-color: #0087ff\">Flatten</span>)   │ (<span style=\"color: #00d7ff; text-decoration-color: #00d7ff\">None</span>, <span style=\"color: #00af00; text-decoration-color: #00af00\">57600</span>)     │          <span style=\"color: #00af00; text-decoration-color: #00af00\">0</span> │ add[<span style=\"color: #00af00; text-decoration-color: #00af00\">0</span>][<span style=\"color: #00af00; text-decoration-color: #00af00\">0</span>]         │\n",
       "├─────────────────────┼───────────────────┼────────────┼───────────────────┤\n",
       "│ flatten_1 (<span style=\"color: #0087ff; text-decoration-color: #0087ff\">Flatten</span>) │ (<span style=\"color: #00d7ff; text-decoration-color: #00d7ff\">None</span>, <span style=\"color: #00af00; text-decoration-color: #00af00\">57600</span>)     │          <span style=\"color: #00af00; text-decoration-color: #00af00\">0</span> │ dropout_5[<span style=\"color: #00af00; text-decoration-color: #00af00\">0</span>][<span style=\"color: #00af00; text-decoration-color: #00af00\">0</span>]   │\n",
       "├─────────────────────┼───────────────────┼────────────┼───────────────────┤\n",
       "│ dense (<span style=\"color: #0087ff; text-decoration-color: #0087ff\">Dense</span>)       │ (<span style=\"color: #00d7ff; text-decoration-color: #00d7ff\">None</span>, <span style=\"color: #00af00; text-decoration-color: #00af00\">1024</span>)      │ <span style=\"color: #00af00; text-decoration-color: #00af00\">58,983,424</span> │ flatten[<span style=\"color: #00af00; text-decoration-color: #00af00\">0</span>][<span style=\"color: #00af00; text-decoration-color: #00af00\">0</span>]     │\n",
       "├─────────────────────┼───────────────────┼────────────┼───────────────────┤\n",
       "│ dense_1 (<span style=\"color: #0087ff; text-decoration-color: #0087ff\">Dense</span>)     │ (<span style=\"color: #00d7ff; text-decoration-color: #00d7ff\">None</span>, <span style=\"color: #00af00; text-decoration-color: #00af00\">1024</span>)      │ <span style=\"color: #00af00; text-decoration-color: #00af00\">58,983,424</span> │ flatten_1[<span style=\"color: #00af00; text-decoration-color: #00af00\">0</span>][<span style=\"color: #00af00; text-decoration-color: #00af00\">0</span>]   │\n",
       "├─────────────────────┼───────────────────┼────────────┼───────────────────┤\n",
       "│ add_1 (<span style=\"color: #0087ff; text-decoration-color: #0087ff\">Add</span>)         │ (<span style=\"color: #00d7ff; text-decoration-color: #00d7ff\">None</span>, <span style=\"color: #00af00; text-decoration-color: #00af00\">1024</span>)      │          <span style=\"color: #00af00; text-decoration-color: #00af00\">0</span> │ dense[<span style=\"color: #00af00; text-decoration-color: #00af00\">0</span>][<span style=\"color: #00af00; text-decoration-color: #00af00\">0</span>],      │\n",
       "│                     │                   │            │ dense_1[<span style=\"color: #00af00; text-decoration-color: #00af00\">0</span>][<span style=\"color: #00af00; text-decoration-color: #00af00\">0</span>]     │\n",
       "├─────────────────────┼───────────────────┼────────────┼───────────────────┤\n",
       "│ dense_2 (<span style=\"color: #0087ff; text-decoration-color: #0087ff\">Dense</span>)     │ (<span style=\"color: #00d7ff; text-decoration-color: #00d7ff\">None</span>, <span style=\"color: #00af00; text-decoration-color: #00af00\">1024</span>)      │  <span style=\"color: #00af00; text-decoration-color: #00af00\">1,049,600</span> │ add_1[<span style=\"color: #00af00; text-decoration-color: #00af00\">0</span>][<span style=\"color: #00af00; text-decoration-color: #00af00\">0</span>]       │\n",
       "├─────────────────────┼───────────────────┼────────────┼───────────────────┤\n",
       "│ dense_3 (<span style=\"color: #0087ff; text-decoration-color: #0087ff\">Dense</span>)     │ (<span style=\"color: #00d7ff; text-decoration-color: #00d7ff\">None</span>, <span style=\"color: #00af00; text-decoration-color: #00af00\">9000</span>)      │  <span style=\"color: #00af00; text-decoration-color: #00af00\">9,225,000</span> │ dense_2[<span style=\"color: #00af00; text-decoration-color: #00af00\">0</span>][<span style=\"color: #00af00; text-decoration-color: #00af00\">0</span>]     │\n",
       "├─────────────────────┼───────────────────┼────────────┼───────────────────┤\n",
       "│ reshape (<span style=\"color: #0087ff; text-decoration-color: #0087ff\">Reshape</span>)   │ (<span style=\"color: #00d7ff; text-decoration-color: #00d7ff\">None</span>, <span style=\"color: #00af00; text-decoration-color: #00af00\">30</span>, <span style=\"color: #00af00; text-decoration-color: #00af00\">30</span>,    │          <span style=\"color: #00af00; text-decoration-color: #00af00\">0</span> │ dense_3[<span style=\"color: #00af00; text-decoration-color: #00af00\">0</span>][<span style=\"color: #00af00; text-decoration-color: #00af00\">0</span>]     │\n",
       "│                     │ <span style=\"color: #00af00; text-decoration-color: #00af00\">10</span>)               │            │                   │\n",
       "└─────────────────────┴───────────────────┴────────────┴───────────────────┘\n",
       "</pre>\n"
      ],
      "text/plain": [
       "┏━━━━━━━━━━━━━━━━━━━━━┳━━━━━━━━━━━━━━━━━━━┳━━━━━━━━━━━━┳━━━━━━━━━━━━━━━━━━━┓\n",
       "┃\u001b[1m \u001b[0m\u001b[1mLayer (type)       \u001b[0m\u001b[1m \u001b[0m┃\u001b[1m \u001b[0m\u001b[1mOutput Shape     \u001b[0m\u001b[1m \u001b[0m┃\u001b[1m \u001b[0m\u001b[1m   Param #\u001b[0m\u001b[1m \u001b[0m┃\u001b[1m \u001b[0m\u001b[1mConnected to     \u001b[0m\u001b[1m \u001b[0m┃\n",
       "┡━━━━━━━━━━━━━━━━━━━━━╇━━━━━━━━━━━━━━━━━━━╇━━━━━━━━━━━━╇━━━━━━━━━━━━━━━━━━━┩\n",
       "│ train_inputs        │ (\u001b[38;5;45mNone\u001b[0m, \u001b[38;5;34m30\u001b[0m, \u001b[38;5;34m30\u001b[0m,    │          \u001b[38;5;34m0\u001b[0m │ -                 │\n",
       "│ (\u001b[38;5;33mInputLayer\u001b[0m)        │ \u001b[38;5;34m10\u001b[0m)               │            │                   │\n",
       "├─────────────────────┼───────────────────┼────────────┼───────────────────┤\n",
       "│ train_outputs       │ (\u001b[38;5;45mNone\u001b[0m, \u001b[38;5;34m30\u001b[0m, \u001b[38;5;34m30\u001b[0m,    │          \u001b[38;5;34m0\u001b[0m │ -                 │\n",
       "│ (\u001b[38;5;33mInputLayer\u001b[0m)        │ \u001b[38;5;34m10\u001b[0m)               │            │                   │\n",
       "├─────────────────────┼───────────────────┼────────────┼───────────────────┤\n",
       "│ conv2d_2 (\u001b[38;5;33mConv2D\u001b[0m)   │ (\u001b[38;5;45mNone\u001b[0m, \u001b[38;5;34m30\u001b[0m, \u001b[38;5;34m30\u001b[0m,    │      \u001b[38;5;34m5,824\u001b[0m │ train_inputs[\u001b[38;5;34m0\u001b[0m][\u001b[38;5;34m…\u001b[0m │\n",
       "│                     │ \u001b[38;5;34m64\u001b[0m)               │            │                   │\n",
       "├─────────────────────┼───────────────────┼────────────┼───────────────────┤\n",
       "│ conv2d_3 (\u001b[38;5;33mConv2D\u001b[0m)   │ (\u001b[38;5;45mNone\u001b[0m, \u001b[38;5;34m30\u001b[0m, \u001b[38;5;34m30\u001b[0m,    │      \u001b[38;5;34m5,824\u001b[0m │ train_outputs[\u001b[38;5;34m0\u001b[0m]… │\n",
       "│                     │ \u001b[38;5;34m64\u001b[0m)               │            │                   │\n",
       "├─────────────────────┼───────────────────┼────────────┼───────────────────┤\n",
       "│ test_inputs         │ (\u001b[38;5;45mNone\u001b[0m, \u001b[38;5;34m30\u001b[0m, \u001b[38;5;34m30\u001b[0m,    │          \u001b[38;5;34m0\u001b[0m │ -                 │\n",
       "│ (\u001b[38;5;33mInputLayer\u001b[0m)        │ \u001b[38;5;34m10\u001b[0m)               │            │                   │\n",
       "├─────────────────────┼───────────────────┼────────────┼───────────────────┤\n",
       "│ batch_normalizatio… │ (\u001b[38;5;45mNone\u001b[0m, \u001b[38;5;34m30\u001b[0m, \u001b[38;5;34m30\u001b[0m,    │        \u001b[38;5;34m256\u001b[0m │ conv2d_2[\u001b[38;5;34m0\u001b[0m][\u001b[38;5;34m0\u001b[0m]    │\n",
       "│ (\u001b[38;5;33mBatchNormalizatio…\u001b[0m │ \u001b[38;5;34m64\u001b[0m)               │            │                   │\n",
       "├─────────────────────┼───────────────────┼────────────┼───────────────────┤\n",
       "│ batch_normalizatio… │ (\u001b[38;5;45mNone\u001b[0m, \u001b[38;5;34m30\u001b[0m, \u001b[38;5;34m30\u001b[0m,    │        \u001b[38;5;34m256\u001b[0m │ conv2d_3[\u001b[38;5;34m0\u001b[0m][\u001b[38;5;34m0\u001b[0m]    │\n",
       "│ (\u001b[38;5;33mBatchNormalizatio…\u001b[0m │ \u001b[38;5;34m64\u001b[0m)               │            │                   │\n",
       "├─────────────────────┼───────────────────┼────────────┼───────────────────┤\n",
       "│ conv2d_5 (\u001b[38;5;33mConv2D\u001b[0m)   │ (\u001b[38;5;45mNone\u001b[0m, \u001b[38;5;34m30\u001b[0m, \u001b[38;5;34m30\u001b[0m,    │      \u001b[38;5;34m5,824\u001b[0m │ test_inputs[\u001b[38;5;34m0\u001b[0m][\u001b[38;5;34m0\u001b[0m] │\n",
       "│                     │ \u001b[38;5;34m64\u001b[0m)               │            │                   │\n",
       "├─────────────────────┼───────────────────┼────────────┼───────────────────┤\n",
       "│ layer_normalizatio… │ (\u001b[38;5;45mNone\u001b[0m, \u001b[38;5;34m30\u001b[0m, \u001b[38;5;34m30\u001b[0m,    │        \u001b[38;5;34m128\u001b[0m │ batch_normalizat… │\n",
       "│ (\u001b[38;5;33mLayerNormalizatio…\u001b[0m │ \u001b[38;5;34m64\u001b[0m)               │            │                   │\n",
       "├─────────────────────┼───────────────────┼────────────┼───────────────────┤\n",
       "│ layer_normalizatio… │ (\u001b[38;5;45mNone\u001b[0m, \u001b[38;5;34m30\u001b[0m, \u001b[38;5;34m30\u001b[0m,    │        \u001b[38;5;34m128\u001b[0m │ batch_normalizat… │\n",
       "│ (\u001b[38;5;33mLayerNormalizatio…\u001b[0m │ \u001b[38;5;34m64\u001b[0m)               │            │                   │\n",
       "├─────────────────────┼───────────────────┼────────────┼───────────────────┤\n",
       "│ batch_normalizatio… │ (\u001b[38;5;45mNone\u001b[0m, \u001b[38;5;34m30\u001b[0m, \u001b[38;5;34m30\u001b[0m,    │        \u001b[38;5;34m256\u001b[0m │ conv2d_5[\u001b[38;5;34m0\u001b[0m][\u001b[38;5;34m0\u001b[0m]    │\n",
       "│ (\u001b[38;5;33mBatchNormalizatio…\u001b[0m │ \u001b[38;5;34m64\u001b[0m)               │            │                   │\n",
       "├─────────────────────┼───────────────────┼────────────┼───────────────────┤\n",
       "│ dropout_2 (\u001b[38;5;33mDropout\u001b[0m) │ (\u001b[38;5;45mNone\u001b[0m, \u001b[38;5;34m30\u001b[0m, \u001b[38;5;34m30\u001b[0m,    │          \u001b[38;5;34m0\u001b[0m │ layer_normalizat… │\n",
       "│                     │ \u001b[38;5;34m64\u001b[0m)               │            │                   │\n",
       "├─────────────────────┼───────────────────┼────────────┼───────────────────┤\n",
       "│ dropout_3 (\u001b[38;5;33mDropout\u001b[0m) │ (\u001b[38;5;45mNone\u001b[0m, \u001b[38;5;34m30\u001b[0m, \u001b[38;5;34m30\u001b[0m,    │          \u001b[38;5;34m0\u001b[0m │ layer_normalizat… │\n",
       "│                     │ \u001b[38;5;34m64\u001b[0m)               │            │                   │\n",
       "├─────────────────────┼───────────────────┼────────────┼───────────────────┤\n",
       "│ layer_normalizatio… │ (\u001b[38;5;45mNone\u001b[0m, \u001b[38;5;34m30\u001b[0m, \u001b[38;5;34m30\u001b[0m,    │        \u001b[38;5;34m128\u001b[0m │ batch_normalizat… │\n",
       "│ (\u001b[38;5;33mLayerNormalizatio…\u001b[0m │ \u001b[38;5;34m64\u001b[0m)               │            │                   │\n",
       "├─────────────────────┼───────────────────┼────────────┼───────────────────┤\n",
       "│ add (\u001b[38;5;33mAdd\u001b[0m)           │ (\u001b[38;5;45mNone\u001b[0m, \u001b[38;5;34m30\u001b[0m, \u001b[38;5;34m30\u001b[0m,    │          \u001b[38;5;34m0\u001b[0m │ dropout_2[\u001b[38;5;34m0\u001b[0m][\u001b[38;5;34m0\u001b[0m],  │\n",
       "│                     │ \u001b[38;5;34m64\u001b[0m)               │            │ dropout_3[\u001b[38;5;34m0\u001b[0m][\u001b[38;5;34m0\u001b[0m]   │\n",
       "├─────────────────────┼───────────────────┼────────────┼───────────────────┤\n",
       "│ dropout_5 (\u001b[38;5;33mDropout\u001b[0m) │ (\u001b[38;5;45mNone\u001b[0m, \u001b[38;5;34m30\u001b[0m, \u001b[38;5;34m30\u001b[0m,    │          \u001b[38;5;34m0\u001b[0m │ layer_normalizat… │\n",
       "│                     │ \u001b[38;5;34m64\u001b[0m)               │            │                   │\n",
       "├─────────────────────┼───────────────────┼────────────┼───────────────────┤\n",
       "│ flatten (\u001b[38;5;33mFlatten\u001b[0m)   │ (\u001b[38;5;45mNone\u001b[0m, \u001b[38;5;34m57600\u001b[0m)     │          \u001b[38;5;34m0\u001b[0m │ add[\u001b[38;5;34m0\u001b[0m][\u001b[38;5;34m0\u001b[0m]         │\n",
       "├─────────────────────┼───────────────────┼────────────┼───────────────────┤\n",
       "│ flatten_1 (\u001b[38;5;33mFlatten\u001b[0m) │ (\u001b[38;5;45mNone\u001b[0m, \u001b[38;5;34m57600\u001b[0m)     │          \u001b[38;5;34m0\u001b[0m │ dropout_5[\u001b[38;5;34m0\u001b[0m][\u001b[38;5;34m0\u001b[0m]   │\n",
       "├─────────────────────┼───────────────────┼────────────┼───────────────────┤\n",
       "│ dense (\u001b[38;5;33mDense\u001b[0m)       │ (\u001b[38;5;45mNone\u001b[0m, \u001b[38;5;34m1024\u001b[0m)      │ \u001b[38;5;34m58,983,424\u001b[0m │ flatten[\u001b[38;5;34m0\u001b[0m][\u001b[38;5;34m0\u001b[0m]     │\n",
       "├─────────────────────┼───────────────────┼────────────┼───────────────────┤\n",
       "│ dense_1 (\u001b[38;5;33mDense\u001b[0m)     │ (\u001b[38;5;45mNone\u001b[0m, \u001b[38;5;34m1024\u001b[0m)      │ \u001b[38;5;34m58,983,424\u001b[0m │ flatten_1[\u001b[38;5;34m0\u001b[0m][\u001b[38;5;34m0\u001b[0m]   │\n",
       "├─────────────────────┼───────────────────┼────────────┼───────────────────┤\n",
       "│ add_1 (\u001b[38;5;33mAdd\u001b[0m)         │ (\u001b[38;5;45mNone\u001b[0m, \u001b[38;5;34m1024\u001b[0m)      │          \u001b[38;5;34m0\u001b[0m │ dense[\u001b[38;5;34m0\u001b[0m][\u001b[38;5;34m0\u001b[0m],      │\n",
       "│                     │                   │            │ dense_1[\u001b[38;5;34m0\u001b[0m][\u001b[38;5;34m0\u001b[0m]     │\n",
       "├─────────────────────┼───────────────────┼────────────┼───────────────────┤\n",
       "│ dense_2 (\u001b[38;5;33mDense\u001b[0m)     │ (\u001b[38;5;45mNone\u001b[0m, \u001b[38;5;34m1024\u001b[0m)      │  \u001b[38;5;34m1,049,600\u001b[0m │ add_1[\u001b[38;5;34m0\u001b[0m][\u001b[38;5;34m0\u001b[0m]       │\n",
       "├─────────────────────┼───────────────────┼────────────┼───────────────────┤\n",
       "│ dense_3 (\u001b[38;5;33mDense\u001b[0m)     │ (\u001b[38;5;45mNone\u001b[0m, \u001b[38;5;34m9000\u001b[0m)      │  \u001b[38;5;34m9,225,000\u001b[0m │ dense_2[\u001b[38;5;34m0\u001b[0m][\u001b[38;5;34m0\u001b[0m]     │\n",
       "├─────────────────────┼───────────────────┼────────────┼───────────────────┤\n",
       "│ reshape (\u001b[38;5;33mReshape\u001b[0m)   │ (\u001b[38;5;45mNone\u001b[0m, \u001b[38;5;34m30\u001b[0m, \u001b[38;5;34m30\u001b[0m,    │          \u001b[38;5;34m0\u001b[0m │ dense_3[\u001b[38;5;34m0\u001b[0m][\u001b[38;5;34m0\u001b[0m]     │\n",
       "│                     │ \u001b[38;5;34m10\u001b[0m)               │            │                   │\n",
       "└─────────────────────┴───────────────────┴────────────┴───────────────────┘\n"
      ]
     },
     "metadata": {},
     "output_type": "display_data"
    },
    {
     "data": {
      "text/html": [
       "<pre style=\"white-space:pre;overflow-x:auto;line-height:normal;font-family:Menlo,'DejaVu Sans Mono',consolas,'Courier New',monospace\"><span style=\"font-weight: bold\"> Total params: </span><span style=\"color: #00af00; text-decoration-color: #00af00\">128,260,072</span> (489.27 MB)\n",
       "</pre>\n"
      ],
      "text/plain": [
       "\u001b[1m Total params: \u001b[0m\u001b[38;5;34m128,260,072\u001b[0m (489.27 MB)\n"
      ]
     },
     "metadata": {},
     "output_type": "display_data"
    },
    {
     "data": {
      "text/html": [
       "<pre style=\"white-space:pre;overflow-x:auto;line-height:normal;font-family:Menlo,'DejaVu Sans Mono',consolas,'Courier New',monospace\"><span style=\"font-weight: bold\"> Trainable params: </span><span style=\"color: #00af00; text-decoration-color: #00af00\">128,259,688</span> (489.27 MB)\n",
       "</pre>\n"
      ],
      "text/plain": [
       "\u001b[1m Trainable params: \u001b[0m\u001b[38;5;34m128,259,688\u001b[0m (489.27 MB)\n"
      ]
     },
     "metadata": {},
     "output_type": "display_data"
    },
    {
     "data": {
      "text/html": [
       "<pre style=\"white-space:pre;overflow-x:auto;line-height:normal;font-family:Menlo,'DejaVu Sans Mono',consolas,'Courier New',monospace\"><span style=\"font-weight: bold\"> Non-trainable params: </span><span style=\"color: #00af00; text-decoration-color: #00af00\">384</span> (1.50 KB)\n",
       "</pre>\n"
      ],
      "text/plain": [
       "\u001b[1m Non-trainable params: \u001b[0m\u001b[38;5;34m384\u001b[0m (1.50 KB)\n"
      ]
     },
     "metadata": {},
     "output_type": "display_data"
    }
   ],
   "source": [
    "import tensorflow as tf\n",
    "from tensorflow.keras import layers\n",
    "\n",
    "# Define the convolutional block with Batch Normalization, Layer Normalization, and specific initializers\n",
    "def conv_block(item):\n",
    "    # Define the initializers for Conv2D\n",
    "    kernel_initializer = tf.keras.initializers.RandomNormal(mean=0.0, stddev=0.2)\n",
    "    bias_initializer = tf.keras.initializers.Zeros()\n",
    "    \n",
    "    # Apply Conv2D with specified initializers\n",
    "    item_conved = layers.Conv2D(\n",
    "        filters=64,  # Example filter size, adjust as needed\n",
    "        kernel_size=(3, 3),  # Example kernel size, adjust as needed\n",
    "        padding='same',\n",
    "        kernel_initializer=kernel_initializer,\n",
    "        bias_initializer=bias_initializer\n",
    "    )(item)\n",
    "    \n",
    "#     item_conved = layers.MaxPooling2D(pool_size=(2, 2))(item_conved)\n",
    "    \n",
    "    # Apply Batch Normalization with specific initializers\n",
    "    item_conved = layers.BatchNormalization(\n",
    "        beta_initializer=tf.keras.initializers.RandomNormal(mean=0.0, stddev=0.2),\n",
    "        gamma_initializer=tf.keras.initializers.RandomNormal(mean=0.0, stddev=0.2)\n",
    "    )(item_conved)\n",
    "    \n",
    "    # Apply Layer Normalization with specific initializers\n",
    "    item_conved = layers.LayerNormalization(\n",
    "        beta_initializer=tf.keras.initializers.RandomNormal(mean=0.0, stddev=0.2),\n",
    "        gamma_initializer=tf.keras.initializers.RandomNormal(mean=0.0, stddev=0.2)\n",
    "    )(item_conved)\n",
    "    \n",
    "    # Apply Dropout\n",
    "    item_conved = layers.Dropout(rate=0.2)(item_conved)\n",
    "    \n",
    "    return item_conved\n",
    "\n",
    "def build_model(conv_cycling_train=2, conv_cycling_test=2):\n",
    "    max_channels = cfg.max_channels\n",
    "    # Take all input tensors\n",
    "    train_inputs = layers.Input(shape=[*cfg.max_size, max_channels], name='train_inputs')\n",
    "    train_outputs = layers.Input(shape=[*cfg.max_size, max_channels], name='train_outputs')\n",
    "    test_inputs = layers.Input(shape=[*cfg.max_size, max_channels], name='test_inputs')\n",
    "    \n",
    "    train_inputs_conved = None\n",
    "    train_outputs_conved = None \n",
    "    for i in range(conv_cycling_train):\n",
    "        train_inputs_conved = conv_block(train_inputs)\n",
    "        train_outputs_conved = conv_block(train_outputs)\n",
    "        \n",
    "    test_inputs_conved = None \n",
    "    for i in range(conv_cycling_test):\n",
    "        test_inputs_conved = conv_block(test_inputs)\n",
    "    \n",
    "    # Train data\n",
    "    train_ = layers.Add()([train_inputs_conved , train_outputs_conved ])\n",
    "    train_ = layers.Flatten()(train_)\n",
    "    train_ = layers.Dense(units=1024, activation='gelu')(train_)\n",
    "    \n",
    "    # Test data\n",
    "    test_ = layers.Flatten()(test_inputs_conved )\n",
    "    test_ = layers.Dense(units=1024, activation='gelu')(test_)\n",
    "    \n",
    "    # Merge train and test data\n",
    "    merged = layers.Add()([train_, test_])\n",
    "    merged = layers.Dense(units=1024, activation='gelu')(merged)\n",
    "    \n",
    "    # Final Dense layer to get 30x30 output\n",
    "    output = layers.Dense(units=cfg.max_size[0]*cfg.max_size[1]*cfg.max_channels, activation='softmax')(merged)\n",
    "    output = layers.Reshape([*cfg.max_size, max_channels])(output)\n",
    "    \n",
    "    model = tf.keras.models.Model(inputs=[train_inputs, train_outputs, test_inputs], outputs=output)\n",
    "    \n",
    "    return model\n",
    "\n",
    "main_model = build_model()\n",
    "main_model.summary()"
   ]
  },
  {
   "cell_type": "markdown",
   "id": "5e6b0b8e",
   "metadata": {
    "papermill": {
     "duration": 0.008458,
     "end_time": "2024-06-25T21:03:37.899968",
     "exception": false,
     "start_time": "2024-06-25T21:03:37.891510",
     "status": "completed"
    },
    "tags": []
   },
   "source": [
    "# Train"
   ]
  },
  {
   "cell_type": "code",
   "execution_count": 6,
   "id": "82ff6d1e",
   "metadata": {
    "execution": {
     "iopub.execute_input": "2024-06-25T21:03:37.919962Z",
     "iopub.status.busy": "2024-06-25T21:03:37.919407Z",
     "iopub.status.idle": "2024-06-25T21:03:37.929411Z",
     "shell.execute_reply": "2024-06-25T21:03:37.927529Z"
    },
    "papermill": {
     "duration": 0.024873,
     "end_time": "2024-06-25T21:03:37.933368",
     "exception": false,
     "start_time": "2024-06-25T21:03:37.908495",
     "status": "completed"
    },
    "tags": []
   },
   "outputs": [],
   "source": [
    "class CustomLoss(tf.keras.losses.Loss):\n",
    "    def __init__(self, name=\"custom_categorical_loss\"):\n",
    "        super().__init__(name=name)\n",
    "        self.criterion = tf.keras.losses.CategoricalCrossentropy()\n",
    "\n",
    "    def call(self, y_true, y_pred):\n",
    "        # Ensure y_pred is in logits form if softmax is applied during the last layer of the model\n",
    "        y_true_flatten = layers.Flatten()(y_true)\n",
    "        y_pred_flatten = layers.Flatten()(y_pred)\n",
    "        \n",
    "        # Compute categorical crossentropy\n",
    "        loss = self.criterion(y_true, y_pred)\n",
    "        \n",
    "\n",
    "        return loss"
   ]
  },
  {
   "cell_type": "code",
   "execution_count": 7,
   "id": "b3073ae9",
   "metadata": {
    "execution": {
     "iopub.execute_input": "2024-06-25T21:03:37.956025Z",
     "iopub.status.busy": "2024-06-25T21:03:37.955554Z",
     "iopub.status.idle": "2024-06-25T21:03:37.975299Z",
     "shell.execute_reply": "2024-06-25T21:03:37.973204Z"
    },
    "papermill": {
     "duration": 0.036897,
     "end_time": "2024-06-25T21:03:37.980128",
     "exception": false,
     "start_time": "2024-06-25T21:03:37.943231",
     "status": "completed"
    },
    "tags": []
   },
   "outputs": [],
   "source": [
    "main_model.compile(optimizer='adam', \n",
    "              loss=CustomLoss(),\n",
    "              metrics=['accuracy'])"
   ]
  },
  {
   "cell_type": "code",
   "execution_count": 8,
   "id": "e49b02fe",
   "metadata": {
    "execution": {
     "iopub.execute_input": "2024-06-25T21:03:38.001936Z",
     "iopub.status.busy": "2024-06-25T21:03:38.001497Z",
     "iopub.status.idle": "2024-06-25T21:20:29.392943Z",
     "shell.execute_reply": "2024-06-25T21:20:29.391146Z"
    },
    "papermill": {
     "duration": 1011.406784,
     "end_time": "2024-06-25T21:20:29.395981",
     "exception": false,
     "start_time": "2024-06-25T21:03:37.989197",
     "status": "completed"
    },
    "tags": []
   },
   "outputs": [
    {
     "name": "stdout",
     "output_type": "stream",
     "text": [
      "Epoch 1/100\n",
      "\u001b[1m26/26\u001b[0m \u001b[32m━━━━━━━━━━━━━━━━━━━━\u001b[0m\u001b[37m\u001b[0m \u001b[1m58s\u001b[0m 2s/step - accuracy: 0.3167 - loss: 2.5969 - val_accuracy: 0.4951 - val_loss: 1.6635 - learning_rate: 0.0010\n",
      "Epoch 2/100\n",
      "\u001b[1m26/26\u001b[0m \u001b[32m━━━━━━━━━━━━━━━━━━━━\u001b[0m\u001b[37m\u001b[0m \u001b[1m49s\u001b[0m 2s/step - accuracy: 0.5156 - loss: 1.6262 - val_accuracy: 0.4954 - val_loss: 1.7735 - learning_rate: 0.0010\n",
      "Epoch 3/100\n",
      "\u001b[1m26/26\u001b[0m \u001b[32m━━━━━━━━━━━━━━━━━━━━\u001b[0m\u001b[37m\u001b[0m \u001b[1m50s\u001b[0m 2s/step - accuracy: 0.5321 - loss: 1.5630 - val_accuracy: 0.4990 - val_loss: 1.7210 - learning_rate: 0.0010\n",
      "Epoch 4/100\n",
      "\u001b[1m26/26\u001b[0m \u001b[32m━━━━━━━━━━━━━━━━━━━━\u001b[0m\u001b[37m\u001b[0m \u001b[1m49s\u001b[0m 2s/step - accuracy: 0.5351 - loss: 1.5244 - val_accuracy: 0.5156 - val_loss: 1.6693 - learning_rate: 0.0010\n",
      "Epoch 5/100\n",
      "\u001b[1m26/26\u001b[0m \u001b[32m━━━━━━━━━━━━━━━━━━━━\u001b[0m\u001b[37m\u001b[0m \u001b[1m82s\u001b[0m 2s/step - accuracy: 0.5411 - loss: 1.4952 - val_accuracy: 0.5272 - val_loss: 1.6072 - learning_rate: 0.0010\n",
      "Epoch 6/100\n",
      "\u001b[1m26/26\u001b[0m \u001b[32m━━━━━━━━━━━━━━━━━━━━\u001b[0m\u001b[37m\u001b[0m \u001b[1m50s\u001b[0m 2s/step - accuracy: 0.5514 - loss: 1.4418 - val_accuracy: 0.5377 - val_loss: 1.5276 - learning_rate: 0.0010\n",
      "Epoch 7/100\n",
      "\u001b[1m26/26\u001b[0m \u001b[32m━━━━━━━━━━━━━━━━━━━━\u001b[0m\u001b[37m\u001b[0m \u001b[1m50s\u001b[0m 2s/step - accuracy: 0.5692 - loss: 1.3705 - val_accuracy: 0.5355 - val_loss: 1.5426 - learning_rate: 0.0010\n",
      "Epoch 8/100\n",
      "\u001b[1m26/26\u001b[0m \u001b[32m━━━━━━━━━━━━━━━━━━━━\u001b[0m\u001b[37m\u001b[0m \u001b[1m49s\u001b[0m 2s/step - accuracy: 0.5862 - loss: 1.2907 - val_accuracy: 0.5316 - val_loss: 1.5479 - learning_rate: 0.0010\n",
      "Epoch 9/100\n",
      "\u001b[1m26/26\u001b[0m \u001b[32m━━━━━━━━━━━━━━━━━━━━\u001b[0m\u001b[37m\u001b[0m \u001b[1m49s\u001b[0m 2s/step - accuracy: 0.6155 - loss: 1.1829 - val_accuracy: 0.5467 - val_loss: 1.4870 - learning_rate: 0.0010\n",
      "Epoch 10/100\n",
      "\u001b[1m26/26\u001b[0m \u001b[32m━━━━━━━━━━━━━━━━━━━━\u001b[0m\u001b[37m\u001b[0m \u001b[1m48s\u001b[0m 2s/step - accuracy: 0.6552 - loss: 1.0631 - val_accuracy: 0.5314 - val_loss: 1.5447 - learning_rate: 0.0010\n",
      "Epoch 11/100\n",
      "\u001b[1m26/26\u001b[0m \u001b[32m━━━━━━━━━━━━━━━━━━━━\u001b[0m\u001b[37m\u001b[0m \u001b[1m49s\u001b[0m 2s/step - accuracy: 0.6827 - loss: 0.9593 - val_accuracy: 0.5319 - val_loss: 1.5807 - learning_rate: 7.0000e-04\n",
      "Epoch 12/100\n",
      "\u001b[1m26/26\u001b[0m \u001b[32m━━━━━━━━━━━━━━━━━━━━\u001b[0m\u001b[37m\u001b[0m \u001b[1m49s\u001b[0m 2s/step - accuracy: 0.7198 - loss: 0.8438 - val_accuracy: 0.5447 - val_loss: 1.5712 - learning_rate: 4.9000e-04\n",
      "Epoch 13/100\n",
      "\u001b[1m26/26\u001b[0m \u001b[32m━━━━━━━━━━━━━━━━━━━━\u001b[0m\u001b[37m\u001b[0m \u001b[1m50s\u001b[0m 2s/step - accuracy: 0.7428 - loss: 0.7676 - val_accuracy: 0.5476 - val_loss: 1.5855 - learning_rate: 3.4300e-04\n",
      "Epoch 14/100\n",
      "\u001b[1m26/26\u001b[0m \u001b[32m━━━━━━━━━━━━━━━━━━━━\u001b[0m\u001b[37m\u001b[0m \u001b[1m49s\u001b[0m 2s/step - accuracy: 0.7752 - loss: 0.6808 - val_accuracy: 0.5422 - val_loss: 1.6260 - learning_rate: 2.4010e-04\n",
      "Epoch 15/100\n",
      "\u001b[1m26/26\u001b[0m \u001b[32m━━━━━━━━━━━━━━━━━━━━\u001b[0m\u001b[37m\u001b[0m \u001b[1m50s\u001b[0m 2s/step - accuracy: 0.7930 - loss: 0.6329 - val_accuracy: 0.5411 - val_loss: 1.6557 - learning_rate: 1.6807e-04\n",
      "Epoch 16/100\n",
      "\u001b[1m26/26\u001b[0m \u001b[32m━━━━━━━━━━━━━━━━━━━━\u001b[0m\u001b[37m\u001b[0m \u001b[1m80s\u001b[0m 2s/step - accuracy: 0.8054 - loss: 0.5956 - val_accuracy: 0.5398 - val_loss: 1.6786 - learning_rate: 1.1765e-04\n",
      "Epoch 17/100\n",
      "\u001b[1m26/26\u001b[0m \u001b[32m━━━━━━━━━━━━━━━━━━━━\u001b[0m\u001b[37m\u001b[0m \u001b[1m49s\u001b[0m 2s/step - accuracy: 0.8148 - loss: 0.5706 - val_accuracy: 0.5396 - val_loss: 1.6922 - learning_rate: 8.2354e-05\n",
      "Epoch 18/100\n",
      "\u001b[1m26/26\u001b[0m \u001b[32m━━━━━━━━━━━━━━━━━━━━\u001b[0m\u001b[37m\u001b[0m \u001b[1m49s\u001b[0m 2s/step - accuracy: 0.8196 - loss: 0.5582 - val_accuracy: 0.5393 - val_loss: 1.7057 - learning_rate: 5.7648e-05\n",
      "Epoch 19/100\n",
      "\u001b[1m26/26\u001b[0m \u001b[32m━━━━━━━━━━━━━━━━━━━━\u001b[0m\u001b[37m\u001b[0m \u001b[1m51s\u001b[0m 2s/step - accuracy: 0.8232 - loss: 0.5488 - val_accuracy: 0.5390 - val_loss: 1.7176 - learning_rate: 4.0354e-05\n"
     ]
    },
    {
     "data": {
      "text/plain": [
       "<keras.src.callbacks.history.History at 0x79b4331d5d20>"
      ]
     },
     "execution_count": 8,
     "metadata": {},
     "output_type": "execute_result"
    }
   ],
   "source": [
    "def scheduler(epoch, lr):\n",
    "    if epoch < 10:\n",
    "        return lr\n",
    "    else:\n",
    "        return lr * 0.7\n",
    "\n",
    "scheduler = keras.callbacks.LearningRateScheduler(scheduler) \n",
    "early_stopping = keras.callbacks.EarlyStopping(monitor = 'val_loss', \n",
    "                                               min_delta = 1e-4, \n",
    "                                               patience = 10, \n",
    "                                               restore_best_weights = True)\n",
    "\n",
    "main_model.fit(ds_train, \n",
    "               epochs = cfg.num_epoch, \n",
    "               validation_data = ds_validation, \n",
    "               callbacks = [\n",
    "                   scheduler, \n",
    "                   early_stopping,\n",
    "               ]\n",
    "              )"
   ]
  },
  {
   "cell_type": "markdown",
   "id": "8e62e87c",
   "metadata": {
    "papermill": {
     "duration": 0.079903,
     "end_time": "2024-06-25T21:20:29.536524",
     "exception": false,
     "start_time": "2024-06-25T21:20:29.456621",
     "status": "completed"
    },
    "tags": []
   },
   "source": [
    "# Make Submission"
   ]
  },
  {
   "cell_type": "code",
   "execution_count": 9,
   "id": "59b0a271",
   "metadata": {
    "execution": {
     "iopub.execute_input": "2024-06-25T21:20:29.667490Z",
     "iopub.status.busy": "2024-06-25T21:20:29.666901Z",
     "iopub.status.idle": "2024-06-25T21:20:30.318545Z",
     "shell.execute_reply": "2024-06-25T21:20:30.316760Z"
    },
    "papermill": {
     "duration": 0.716149,
     "end_time": "2024-06-25T21:20:30.321774",
     "exception": false,
     "start_time": "2024-06-25T21:20:29.605625",
     "status": "completed"
    },
    "tags": []
   },
   "outputs": [],
   "source": [
    "X_test, _ = prepare1(cfg.test, only_one = False)\n",
    "ds_test = build_dataset(X_test, shuffle = False )"
   ]
  },
  {
   "cell_type": "code",
   "execution_count": 10,
   "id": "cbece460",
   "metadata": {
    "execution": {
     "iopub.execute_input": "2024-06-25T21:20:30.469896Z",
     "iopub.status.busy": "2024-06-25T21:20:30.469349Z",
     "iopub.status.idle": "2024-06-25T21:20:32.030845Z",
     "shell.execute_reply": "2024-06-25T21:20:32.029055Z"
    },
    "papermill": {
     "duration": 1.646113,
     "end_time": "2024-06-25T21:20:32.034234",
     "exception": false,
     "start_time": "2024-06-25T21:20:30.388121",
     "status": "completed"
    },
    "tags": []
   },
   "outputs": [],
   "source": [
    "predictions = list()\n",
    "\n",
    "for batch in ds_test: \n",
    "    prediction = main_model(batch)\n",
    "    predictions.extend([i for i in prediction.numpy()])"
   ]
  },
  {
   "cell_type": "code",
   "execution_count": 11,
   "id": "e75dc992",
   "metadata": {
    "execution": {
     "iopub.execute_input": "2024-06-25T21:20:32.177890Z",
     "iopub.status.busy": "2024-06-25T21:20:32.177439Z",
     "iopub.status.idle": "2024-06-25T21:20:32.213639Z",
     "shell.execute_reply": "2024-06-25T21:20:32.211931Z"
    },
    "papermill": {
     "duration": 0.113795,
     "end_time": "2024-06-25T21:20:32.217550",
     "exception": false,
     "start_time": "2024-06-25T21:20:32.103755",
     "status": "completed"
    },
    "tags": []
   },
   "outputs": [],
   "source": [
    "actual_ids = list() \n",
    "actual_shapes = list()\n",
    "\n",
    "with open(cfg.test['inputs'], mode='r') as file: \n",
    "    data = json.load(file)\n",
    "    file.close() \n",
    "\n",
    "for k, v in data.items(): \n",
    "    test_input_num = len(v['test'])\n",
    "    \n",
    "    train_output_shape = [np.array(i['output']).shape for i in v['train'][:1]]\n",
    "    for i in range(test_input_num): \n",
    "        actual_shapes.extend(train_output_shape)\n",
    "        actual_ids.append(k)"
   ]
  },
  {
   "cell_type": "code",
   "execution_count": 12,
   "id": "64257674",
   "metadata": {
    "execution": {
     "iopub.execute_input": "2024-06-25T21:20:32.354577Z",
     "iopub.status.busy": "2024-06-25T21:20:32.354061Z",
     "iopub.status.idle": "2024-06-25T21:20:32.365208Z",
     "shell.execute_reply": "2024-06-25T21:20:32.363760Z"
    },
    "papermill": {
     "duration": 0.084164,
     "end_time": "2024-06-25T21:20:32.368659",
     "exception": false,
     "start_time": "2024-06-25T21:20:32.284495",
     "status": "completed"
    },
    "tags": []
   },
   "outputs": [],
   "source": [
    "predictions_reshaped = [np.argmax(p, axis = -1) for p in predictions]\n",
    "predictions_reshaped = [cv2.resize(p.astype(np.uint8), t, interpolation=cv2.INTER_NEAREST) for p, t in zip(predictions_reshaped, actual_shapes)]"
   ]
  },
  {
   "cell_type": "code",
   "execution_count": 13,
   "id": "bbb189d6",
   "metadata": {
    "execution": {
     "iopub.execute_input": "2024-06-25T21:20:32.500477Z",
     "iopub.status.busy": "2024-06-25T21:20:32.499943Z",
     "iopub.status.idle": "2024-06-25T21:20:32.511802Z",
     "shell.execute_reply": "2024-06-25T21:20:32.509960Z"
    },
    "papermill": {
     "duration": 0.080851,
     "end_time": "2024-06-25T21:20:32.514830",
     "exception": false,
     "start_time": "2024-06-25T21:20:32.433979",
     "status": "completed"
    },
    "tags": []
   },
   "outputs": [],
   "source": [
    "submission = dict() \n",
    "for i, p in zip(actual_ids, predictions_reshaped): \n",
    "    if i in submission.keys(): \n",
    "        submission[i][0][f'attempt_{len(submission[i][0]) + 1}'] = p.tolist() \n",
    "    else: \n",
    "        submission[i] = list() \n",
    "        submission[i].append(dict())\n",
    "        \n",
    "        submission[i][0][f'attempt_1'] = p.tolist() "
   ]
  },
  {
   "cell_type": "code",
   "execution_count": 14,
   "id": "c829e0f9",
   "metadata": {
    "execution": {
     "iopub.execute_input": "2024-06-25T21:20:32.645531Z",
     "iopub.status.busy": "2024-06-25T21:20:32.644956Z",
     "iopub.status.idle": "2024-06-25T21:20:32.676751Z",
     "shell.execute_reply": "2024-06-25T21:20:32.674970Z"
    },
    "papermill": {
     "duration": 0.101127,
     "end_time": "2024-06-25T21:20:32.679965",
     "exception": false,
     "start_time": "2024-06-25T21:20:32.578838",
     "status": "completed"
    },
    "tags": []
   },
   "outputs": [],
   "source": [
    "with open('submission.json', 'w') as file: \n",
    "    json.dump(obj = {'root': submission}, fp = file)"
   ]
  }
 ],
 "metadata": {
  "kaggle": {
   "accelerator": "none",
   "dataSources": [
    {
     "databundleVersionId": 8876241,
     "sourceId": 67357,
     "sourceType": "competition"
    }
   ],
   "dockerImageVersionId": 30732,
   "isGpuEnabled": false,
   "isInternetEnabled": false,
   "language": "python",
   "sourceType": "notebook"
  },
  "kernelspec": {
   "display_name": "Python 3",
   "language": "python",
   "name": "python3"
  },
  "language_info": {
   "codemirror_mode": {
    "name": "ipython",
    "version": 3
   },
   "file_extension": ".py",
   "mimetype": "text/x-python",
   "name": "python",
   "nbconvert_exporter": "python",
   "pygments_lexer": "ipython3",
   "version": "3.10.13"
  },
  "papermill": {
   "default_parameters": {},
   "duration": 1045.2169,
   "end_time": "2024-06-25T21:20:36.421524",
   "environment_variables": {},
   "exception": null,
   "input_path": "__notebook__.ipynb",
   "output_path": "__notebook__.ipynb",
   "parameters": {},
   "start_time": "2024-06-25T21:03:11.204624",
   "version": "2.5.0"
  }
 },
 "nbformat": 4,
 "nbformat_minor": 5
}
