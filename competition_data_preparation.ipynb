{
 "cells": [
  {
   "cell_type": "code",
   "execution_count": 1,
   "id": "920da333",
   "metadata": {
    "execution": {
     "iopub.execute_input": "2024-06-26T21:34:59.922595Z",
     "iopub.status.busy": "2024-06-26T21:34:59.922165Z",
     "iopub.status.idle": "2024-06-26T21:34:59.935367Z",
     "shell.execute_reply": "2024-06-26T21:34:59.934415Z"
    },
    "papermill": {
     "duration": 0.022832,
     "end_time": "2024-06-26T21:34:59.937828",
     "exception": false,
     "start_time": "2024-06-26T21:34:59.914996",
     "status": "completed"
    },
    "tags": []
   },
   "outputs": [],
   "source": [
    "class Config: \n",
    "    \"\"\"\n",
    "    In this competition the matrix size is from 2x2 to 30x30\n",
    "    and maximum 5-6 examples of solutions \n",
    "    \"\"\"\n",
    "    \n",
    "    \n",
    "    train = {'inputs': '/kaggle/input/arc-prize-2024/arc-agi_training_challenges.json',\n",
    "             'outputs': '/kaggle/input/arc-prize-2024/arc-agi_training_solutions.json'}\n",
    "    validation = {'inputs': '/kaggle/input/arc-prize-2024/arc-agi_evaluation_challenges.json', \n",
    "                  'outputs': '/kaggle/input/arc-prize-2024/arc-agi_evaluation_solutions.json'}\n",
    "    test = {'inputs': '/kaggle/input/arc-prize-2024/arc-agi_test_challenges.json'}\n",
    "    \n",
    "    max_size = (30, 30)\n",
    "    max_channels = 10\n",
    "    num_epoch = 150\n",
    "    batch_size = 16\n",
    "    buffer_size = 8\n",
    "    early_stopping_patience = 80 \n",
    "    \n",
    "cfg = Config() "
   ]
  },
  {
   "cell_type": "code",
   "execution_count": 2,
   "id": "9e2291c0",
   "metadata": {
    "_cell_guid": "b1076dfc-b9ad-4769-8c92-a6c4dae69d19",
    "_uuid": "8f2839f25d086af736a60e9eeb907d3b93b6e0e5",
    "execution": {
     "iopub.execute_input": "2024-06-26T21:34:59.950472Z",
     "iopub.status.busy": "2024-06-26T21:34:59.949456Z",
     "iopub.status.idle": "2024-06-26T21:35:15.348174Z",
     "shell.execute_reply": "2024-06-26T21:35:15.347094Z"
    },
    "papermill": {
     "duration": 15.40774,
     "end_time": "2024-06-26T21:35:15.350866",
     "exception": false,
     "start_time": "2024-06-26T21:34:59.943126",
     "status": "completed"
    },
    "tags": []
   },
   "outputs": [
    {
     "name": "stderr",
     "output_type": "stream",
     "text": [
      "2024-06-26 21:35:02.244967: E external/local_xla/xla/stream_executor/cuda/cuda_dnn.cc:9261] Unable to register cuDNN factory: Attempting to register factory for plugin cuDNN when one has already been registered\n",
      "2024-06-26 21:35:02.245289: E external/local_xla/xla/stream_executor/cuda/cuda_fft.cc:607] Unable to register cuFFT factory: Attempting to register factory for plugin cuFFT when one has already been registered\n",
      "2024-06-26 21:35:02.411932: E external/local_xla/xla/stream_executor/cuda/cuda_blas.cc:1515] Unable to register cuBLAS factory: Attempting to register factory for plugin cuBLAS when one has already been registered\n"
     ]
    }
   ],
   "source": [
    "import numpy as np \n",
    "import json \n",
    "\n",
    "from tensorflow.data import Dataset \n",
    "import tensorflow as tf \n",
    "\n",
    "from tensorflow.keras import layers \n",
    "import keras"
   ]
  },
  {
   "cell_type": "markdown",
   "id": "d5451bbc",
   "metadata": {
    "papermill": {
     "duration": 0.004849,
     "end_time": "2024-06-26T21:35:15.361098",
     "exception": false,
     "start_time": "2024-06-26T21:35:15.356249",
     "status": "completed"
    },
    "tags": []
   },
   "source": [
    "# Data Preparation "
   ]
  },
  {
   "cell_type": "code",
   "execution_count": 3,
   "id": "5e605e14",
   "metadata": {
    "execution": {
     "iopub.execute_input": "2024-06-26T21:35:15.373531Z",
     "iopub.status.busy": "2024-06-26T21:35:15.372799Z",
     "iopub.status.idle": "2024-06-26T21:35:16.364544Z",
     "shell.execute_reply": "2024-06-26T21:35:16.363360Z"
    },
    "papermill": {
     "duration": 1.001157,
     "end_time": "2024-06-26T21:35:16.367422",
     "exception": false,
     "start_time": "2024-06-26T21:35:15.366265",
     "status": "completed"
    },
    "tags": []
   },
   "outputs": [],
   "source": [
    "import cv2 \n",
    "\n",
    "def size_to_30(i, key = 'input', target_size = None, for_tf = True):\n",
    "    if type(i) == dict: \n",
    "        arr = np.array(i[key])\n",
    "    else: \n",
    "        arr = np.array(i)\n",
    "        \n",
    "    if target_size == None: \n",
    "        target_size = cfg.max_size\n",
    "    # Convert arr to cv2 image (assuming arr is in a format compatible with OpenCV)\n",
    "    img = arr.astype(np.uint8)\n",
    "    # Resize the image to 30x30 using cubic interpolation\n",
    "    img_resized = cv2.resize(img, target_size, interpolation=cv2.INTER_NEAREST)\n",
    "    # Convert the resized image back to a NumPy array\n",
    "    if for_tf: \n",
    "        return tf.convert_to_tensor(img_resized)\n",
    "    else:\n",
    "        return img_resized\n",
    "\n",
    "\n",
    "def prepare_inputs(path, only_one = True): \n",
    "    input_data = {\n",
    "        'test_inputs': list(), \n",
    "        'train_inputs': list(), \n",
    "        'train_outputs': list()}  \n",
    "    \n",
    "    with open(path, mode='r') as file: \n",
    "        data = json.load(file)\n",
    "        file.close() \n",
    "    \n",
    "    for v in data.values(): \n",
    "        if only_one: \n",
    "            input_data['test_inputs'].append([size_to_30(i) for i in v['test'][:1]])\n",
    "            input_data['train_inputs'].append([size_to_30(i) for i in v['train'][:1]])\n",
    "            input_data['train_outputs'].append([size_to_30(i, 'output') for i in v['train'][:1]])\n",
    "        else: \n",
    "            test_inputs = [size_to_30(i) for i in v['test']]\n",
    "            input_data['test_inputs'].extend([[i] for i in test_inputs])\n",
    "            \n",
    "            num_test_inputs = len(test_inputs)\n",
    "            \n",
    "            train_inputs = [size_to_30(i) for i in v['train'][:1]]\n",
    "            train_outputs = [size_to_30(i, 'output') for i in v['train'][:1]]\n",
    "            for i in range(num_test_inputs): \n",
    "                input_data['train_inputs'].append(train_inputs)\n",
    "                input_data['train_outputs'].append(train_outputs)\n",
    "        \n",
    "    return input_data \n",
    "    \n",
    "def prepare_outputs(path, only_one = True): \n",
    "    output_data = list()\n",
    "    \n",
    "    with open(path, mode='r') as file: \n",
    "        data = json.load(file)\n",
    "        file.close() \n",
    "        \n",
    "    for v in data.values(): \n",
    "        if only_one: \n",
    "            output_data.append([size_to_30(i) for i in v[:1]])\n",
    "        else: \n",
    "            output_data.extend([[size_to_30(i)] for i in v])\n",
    "            \n",
    "    return output_data\n",
    "\n",
    "def prepare1(data_path_item, only_one = True):\n",
    "    inputs = None \n",
    "    outputs = None \n",
    "    \n",
    "    \n",
    "    if 'inputs' in data_path_item.keys(): \n",
    "        inputs = data_path_item['inputs']\n",
    "        \n",
    "        inputs = prepare_inputs(inputs, only_one)\n",
    "        \n",
    "    if 'outputs' in data_path_item.keys(): \n",
    "        outputs = data_path_item[\"outputs\"]\n",
    "        \n",
    "        outputs = prepare_outputs(outputs, only_one)\n",
    "        \n",
    "    return inputs, outputs \n",
    "\n",
    "X_train, y_train = prepare1(cfg.train, only_one = False)\n",
    "X_validation, y_validation = prepare1(cfg.validation, only_one = False )\n",
    "# test = prepare1(cfg.test)"
   ]
  },
  {
   "cell_type": "markdown",
   "id": "5237eea8",
   "metadata": {
    "papermill": {
     "duration": 0.005267,
     "end_time": "2024-06-26T21:35:16.378011",
     "exception": false,
     "start_time": "2024-06-26T21:35:16.372744",
     "status": "completed"
    },
    "tags": []
   },
   "source": [
    "# To Dataset "
   ]
  },
  {
   "cell_type": "code",
   "execution_count": 4,
   "id": "0fd355cc",
   "metadata": {
    "execution": {
     "iopub.execute_input": "2024-06-26T21:35:16.389842Z",
     "iopub.status.busy": "2024-06-26T21:35:16.389461Z",
     "iopub.status.idle": "2024-06-26T21:35:17.135052Z",
     "shell.execute_reply": "2024-06-26T21:35:17.133904Z"
    },
    "papermill": {
     "duration": 0.754642,
     "end_time": "2024-06-26T21:35:17.137755",
     "exception": false,
     "start_time": "2024-06-26T21:35:16.383113",
     "status": "completed"
    },
    "tags": []
   },
   "outputs": [],
   "source": [
    "def add_channels(item): \n",
    "    \"\"\"\n",
    "    item is 30x30 matrix which is tensor with shape [1, 30, 30]\n",
    "    \n",
    "    This function returns this tensors with shape [1, 30, 30, 9]\n",
    "    \"\"\"\n",
    "    \n",
    "    num_classes = cfg.max_channels\n",
    "    \n",
    "    item_with_channels = tf.one_hot(item, num_classes)\n",
    "    \n",
    "    return item_with_channels \n",
    "\n",
    "def build_dataset(X, y = None, batch = True, shuffle = True): \n",
    "    ds_input = (\n",
    "        Dataset.from_tensor_slices({**X})\n",
    "      .map(lambda i: {k: tf.squeeze(v) for k, v in i.items()})\n",
    "      .map(lambda i: {k: add_channels(v) for k, v in i.items()}))\n",
    "    \n",
    "    if y != None: \n",
    "        ds_output = (Dataset.from_tensor_slices(y)\n",
    "          .map(lambda i: tf.squeeze(i))\n",
    "          .map(lambda i: add_channels(i))\n",
    "                    )\n",
    "    \n",
    "        ds = Dataset.zip((ds_input, ds_output))\n",
    "    \n",
    "    else: \n",
    "        ds = ds_input\n",
    "    \n",
    "    if shuffle == True: \n",
    "        ds = ds.shuffle(cfg.buffer_size)\n",
    "    \n",
    "    if batch == True: \n",
    "        ds = ds.batch(cfg.batch_size)\n",
    "            \n",
    "    return ds.prefetch(cfg.buffer_size)\n",
    "    \n",
    "ds_train = build_dataset(X_train, y_train)\n",
    "ds_validation = build_dataset(X_validation, y_validation)"
   ]
  },
  {
   "cell_type": "markdown",
   "id": "366f4a34",
   "metadata": {
    "papermill": {
     "duration": 0.004864,
     "end_time": "2024-06-26T21:35:17.148291",
     "exception": false,
     "start_time": "2024-06-26T21:35:17.143427",
     "status": "completed"
    },
    "tags": []
   },
   "source": [
    "# Model"
   ]
  },
  {
   "cell_type": "code",
   "execution_count": 5,
   "id": "e2118482",
   "metadata": {
    "execution": {
     "iopub.execute_input": "2024-06-26T21:35:17.161055Z",
     "iopub.status.busy": "2024-06-26T21:35:17.160016Z",
     "iopub.status.idle": "2024-06-26T21:35:18.442510Z",
     "shell.execute_reply": "2024-06-26T21:35:18.441505Z"
    },
    "papermill": {
     "duration": 1.291362,
     "end_time": "2024-06-26T21:35:18.444805",
     "exception": false,
     "start_time": "2024-06-26T21:35:17.153443",
     "status": "completed"
    },
    "tags": []
   },
   "outputs": [
    {
     "data": {
      "text/html": [
       "<pre style=\"white-space:pre;overflow-x:auto;line-height:normal;font-family:Menlo,'DejaVu Sans Mono',consolas,'Courier New',monospace\"><span style=\"font-weight: bold\">Model: \"functional_1\"</span>\n",
       "</pre>\n"
      ],
      "text/plain": [
       "\u001b[1mModel: \"functional_1\"\u001b[0m\n"
      ]
     },
     "metadata": {},
     "output_type": "display_data"
    },
    {
     "data": {
      "text/html": [
       "<pre style=\"white-space:pre;overflow-x:auto;line-height:normal;font-family:Menlo,'DejaVu Sans Mono',consolas,'Courier New',monospace\">┏━━━━━━━━━━━━━━━━━━━━━┳━━━━━━━━━━━━━━━━━━━┳━━━━━━━━━━━━┳━━━━━━━━━━━━━━━━━━━┓\n",
       "┃<span style=\"font-weight: bold\"> Layer (type)        </span>┃<span style=\"font-weight: bold\"> Output Shape      </span>┃<span style=\"font-weight: bold\">    Param # </span>┃<span style=\"font-weight: bold\"> Connected to      </span>┃\n",
       "┡━━━━━━━━━━━━━━━━━━━━━╇━━━━━━━━━━━━━━━━━━━╇━━━━━━━━━━━━╇━━━━━━━━━━━━━━━━━━━┩\n",
       "│ train_inputs        │ (<span style=\"color: #00d7ff; text-decoration-color: #00d7ff\">None</span>, <span style=\"color: #00af00; text-decoration-color: #00af00\">30</span>, <span style=\"color: #00af00; text-decoration-color: #00af00\">30</span>,    │          <span style=\"color: #00af00; text-decoration-color: #00af00\">0</span> │ -                 │\n",
       "│ (<span style=\"color: #0087ff; text-decoration-color: #0087ff\">InputLayer</span>)        │ <span style=\"color: #00af00; text-decoration-color: #00af00\">10</span>)               │            │                   │\n",
       "├─────────────────────┼───────────────────┼────────────┼───────────────────┤\n",
       "│ train_outputs       │ (<span style=\"color: #00d7ff; text-decoration-color: #00d7ff\">None</span>, <span style=\"color: #00af00; text-decoration-color: #00af00\">30</span>, <span style=\"color: #00af00; text-decoration-color: #00af00\">30</span>,    │          <span style=\"color: #00af00; text-decoration-color: #00af00\">0</span> │ -                 │\n",
       "│ (<span style=\"color: #0087ff; text-decoration-color: #0087ff\">InputLayer</span>)        │ <span style=\"color: #00af00; text-decoration-color: #00af00\">10</span>)               │            │                   │\n",
       "├─────────────────────┼───────────────────┼────────────┼───────────────────┤\n",
       "│ conv2d_2 (<span style=\"color: #0087ff; text-decoration-color: #0087ff\">Conv2D</span>)   │ (<span style=\"color: #00d7ff; text-decoration-color: #00d7ff\">None</span>, <span style=\"color: #00af00; text-decoration-color: #00af00\">30</span>, <span style=\"color: #00af00; text-decoration-color: #00af00\">30</span>,    │      <span style=\"color: #00af00; text-decoration-color: #00af00\">5,824</span> │ train_inputs[<span style=\"color: #00af00; text-decoration-color: #00af00\">0</span>][<span style=\"color: #00af00; text-decoration-color: #00af00\">…</span> │\n",
       "│                     │ <span style=\"color: #00af00; text-decoration-color: #00af00\">64</span>)               │            │                   │\n",
       "├─────────────────────┼───────────────────┼────────────┼───────────────────┤\n",
       "│ conv2d_3 (<span style=\"color: #0087ff; text-decoration-color: #0087ff\">Conv2D</span>)   │ (<span style=\"color: #00d7ff; text-decoration-color: #00d7ff\">None</span>, <span style=\"color: #00af00; text-decoration-color: #00af00\">30</span>, <span style=\"color: #00af00; text-decoration-color: #00af00\">30</span>,    │      <span style=\"color: #00af00; text-decoration-color: #00af00\">5,824</span> │ train_outputs[<span style=\"color: #00af00; text-decoration-color: #00af00\">0</span>]… │\n",
       "│                     │ <span style=\"color: #00af00; text-decoration-color: #00af00\">64</span>)               │            │                   │\n",
       "├─────────────────────┼───────────────────┼────────────┼───────────────────┤\n",
       "│ test_inputs         │ (<span style=\"color: #00d7ff; text-decoration-color: #00d7ff\">None</span>, <span style=\"color: #00af00; text-decoration-color: #00af00\">30</span>, <span style=\"color: #00af00; text-decoration-color: #00af00\">30</span>,    │          <span style=\"color: #00af00; text-decoration-color: #00af00\">0</span> │ -                 │\n",
       "│ (<span style=\"color: #0087ff; text-decoration-color: #0087ff\">InputLayer</span>)        │ <span style=\"color: #00af00; text-decoration-color: #00af00\">10</span>)               │            │                   │\n",
       "├─────────────────────┼───────────────────┼────────────┼───────────────────┤\n",
       "│ batch_normalizatio… │ (<span style=\"color: #00d7ff; text-decoration-color: #00d7ff\">None</span>, <span style=\"color: #00af00; text-decoration-color: #00af00\">30</span>, <span style=\"color: #00af00; text-decoration-color: #00af00\">30</span>,    │        <span style=\"color: #00af00; text-decoration-color: #00af00\">256</span> │ conv2d_2[<span style=\"color: #00af00; text-decoration-color: #00af00\">0</span>][<span style=\"color: #00af00; text-decoration-color: #00af00\">0</span>]    │\n",
       "│ (<span style=\"color: #0087ff; text-decoration-color: #0087ff\">BatchNormalizatio…</span> │ <span style=\"color: #00af00; text-decoration-color: #00af00\">64</span>)               │            │                   │\n",
       "├─────────────────────┼───────────────────┼────────────┼───────────────────┤\n",
       "│ batch_normalizatio… │ (<span style=\"color: #00d7ff; text-decoration-color: #00d7ff\">None</span>, <span style=\"color: #00af00; text-decoration-color: #00af00\">30</span>, <span style=\"color: #00af00; text-decoration-color: #00af00\">30</span>,    │        <span style=\"color: #00af00; text-decoration-color: #00af00\">256</span> │ conv2d_3[<span style=\"color: #00af00; text-decoration-color: #00af00\">0</span>][<span style=\"color: #00af00; text-decoration-color: #00af00\">0</span>]    │\n",
       "│ (<span style=\"color: #0087ff; text-decoration-color: #0087ff\">BatchNormalizatio…</span> │ <span style=\"color: #00af00; text-decoration-color: #00af00\">64</span>)               │            │                   │\n",
       "├─────────────────────┼───────────────────┼────────────┼───────────────────┤\n",
       "│ conv2d_5 (<span style=\"color: #0087ff; text-decoration-color: #0087ff\">Conv2D</span>)   │ (<span style=\"color: #00d7ff; text-decoration-color: #00d7ff\">None</span>, <span style=\"color: #00af00; text-decoration-color: #00af00\">30</span>, <span style=\"color: #00af00; text-decoration-color: #00af00\">30</span>,    │      <span style=\"color: #00af00; text-decoration-color: #00af00\">5,824</span> │ test_inputs[<span style=\"color: #00af00; text-decoration-color: #00af00\">0</span>][<span style=\"color: #00af00; text-decoration-color: #00af00\">0</span>] │\n",
       "│                     │ <span style=\"color: #00af00; text-decoration-color: #00af00\">64</span>)               │            │                   │\n",
       "├─────────────────────┼───────────────────┼────────────┼───────────────────┤\n",
       "│ layer_normalizatio… │ (<span style=\"color: #00d7ff; text-decoration-color: #00d7ff\">None</span>, <span style=\"color: #00af00; text-decoration-color: #00af00\">30</span>, <span style=\"color: #00af00; text-decoration-color: #00af00\">30</span>,    │        <span style=\"color: #00af00; text-decoration-color: #00af00\">128</span> │ batch_normalizat… │\n",
       "│ (<span style=\"color: #0087ff; text-decoration-color: #0087ff\">LayerNormalizatio…</span> │ <span style=\"color: #00af00; text-decoration-color: #00af00\">64</span>)               │            │                   │\n",
       "├─────────────────────┼───────────────────┼────────────┼───────────────────┤\n",
       "│ layer_normalizatio… │ (<span style=\"color: #00d7ff; text-decoration-color: #00d7ff\">None</span>, <span style=\"color: #00af00; text-decoration-color: #00af00\">30</span>, <span style=\"color: #00af00; text-decoration-color: #00af00\">30</span>,    │        <span style=\"color: #00af00; text-decoration-color: #00af00\">128</span> │ batch_normalizat… │\n",
       "│ (<span style=\"color: #0087ff; text-decoration-color: #0087ff\">LayerNormalizatio…</span> │ <span style=\"color: #00af00; text-decoration-color: #00af00\">64</span>)               │            │                   │\n",
       "├─────────────────────┼───────────────────┼────────────┼───────────────────┤\n",
       "│ batch_normalizatio… │ (<span style=\"color: #00d7ff; text-decoration-color: #00d7ff\">None</span>, <span style=\"color: #00af00; text-decoration-color: #00af00\">30</span>, <span style=\"color: #00af00; text-decoration-color: #00af00\">30</span>,    │        <span style=\"color: #00af00; text-decoration-color: #00af00\">256</span> │ conv2d_5[<span style=\"color: #00af00; text-decoration-color: #00af00\">0</span>][<span style=\"color: #00af00; text-decoration-color: #00af00\">0</span>]    │\n",
       "│ (<span style=\"color: #0087ff; text-decoration-color: #0087ff\">BatchNormalizatio…</span> │ <span style=\"color: #00af00; text-decoration-color: #00af00\">64</span>)               │            │                   │\n",
       "├─────────────────────┼───────────────────┼────────────┼───────────────────┤\n",
       "│ dropout_2 (<span style=\"color: #0087ff; text-decoration-color: #0087ff\">Dropout</span>) │ (<span style=\"color: #00d7ff; text-decoration-color: #00d7ff\">None</span>, <span style=\"color: #00af00; text-decoration-color: #00af00\">30</span>, <span style=\"color: #00af00; text-decoration-color: #00af00\">30</span>,    │          <span style=\"color: #00af00; text-decoration-color: #00af00\">0</span> │ layer_normalizat… │\n",
       "│                     │ <span style=\"color: #00af00; text-decoration-color: #00af00\">64</span>)               │            │                   │\n",
       "├─────────────────────┼───────────────────┼────────────┼───────────────────┤\n",
       "│ dropout_3 (<span style=\"color: #0087ff; text-decoration-color: #0087ff\">Dropout</span>) │ (<span style=\"color: #00d7ff; text-decoration-color: #00d7ff\">None</span>, <span style=\"color: #00af00; text-decoration-color: #00af00\">30</span>, <span style=\"color: #00af00; text-decoration-color: #00af00\">30</span>,    │          <span style=\"color: #00af00; text-decoration-color: #00af00\">0</span> │ layer_normalizat… │\n",
       "│                     │ <span style=\"color: #00af00; text-decoration-color: #00af00\">64</span>)               │            │                   │\n",
       "├─────────────────────┼───────────────────┼────────────┼───────────────────┤\n",
       "│ layer_normalizatio… │ (<span style=\"color: #00d7ff; text-decoration-color: #00d7ff\">None</span>, <span style=\"color: #00af00; text-decoration-color: #00af00\">30</span>, <span style=\"color: #00af00; text-decoration-color: #00af00\">30</span>,    │        <span style=\"color: #00af00; text-decoration-color: #00af00\">128</span> │ batch_normalizat… │\n",
       "│ (<span style=\"color: #0087ff; text-decoration-color: #0087ff\">LayerNormalizatio…</span> │ <span style=\"color: #00af00; text-decoration-color: #00af00\">64</span>)               │            │                   │\n",
       "├─────────────────────┼───────────────────┼────────────┼───────────────────┤\n",
       "│ add (<span style=\"color: #0087ff; text-decoration-color: #0087ff\">Add</span>)           │ (<span style=\"color: #00d7ff; text-decoration-color: #00d7ff\">None</span>, <span style=\"color: #00af00; text-decoration-color: #00af00\">30</span>, <span style=\"color: #00af00; text-decoration-color: #00af00\">30</span>,    │          <span style=\"color: #00af00; text-decoration-color: #00af00\">0</span> │ dropout_2[<span style=\"color: #00af00; text-decoration-color: #00af00\">0</span>][<span style=\"color: #00af00; text-decoration-color: #00af00\">0</span>],  │\n",
       "│                     │ <span style=\"color: #00af00; text-decoration-color: #00af00\">64</span>)               │            │ dropout_3[<span style=\"color: #00af00; text-decoration-color: #00af00\">0</span>][<span style=\"color: #00af00; text-decoration-color: #00af00\">0</span>]   │\n",
       "├─────────────────────┼───────────────────┼────────────┼───────────────────┤\n",
       "│ dropout_5 (<span style=\"color: #0087ff; text-decoration-color: #0087ff\">Dropout</span>) │ (<span style=\"color: #00d7ff; text-decoration-color: #00d7ff\">None</span>, <span style=\"color: #00af00; text-decoration-color: #00af00\">30</span>, <span style=\"color: #00af00; text-decoration-color: #00af00\">30</span>,    │          <span style=\"color: #00af00; text-decoration-color: #00af00\">0</span> │ layer_normalizat… │\n",
       "│                     │ <span style=\"color: #00af00; text-decoration-color: #00af00\">64</span>)               │            │                   │\n",
       "├─────────────────────┼───────────────────┼────────────┼───────────────────┤\n",
       "│ flatten (<span style=\"color: #0087ff; text-decoration-color: #0087ff\">Flatten</span>)   │ (<span style=\"color: #00d7ff; text-decoration-color: #00d7ff\">None</span>, <span style=\"color: #00af00; text-decoration-color: #00af00\">57600</span>)     │          <span style=\"color: #00af00; text-decoration-color: #00af00\">0</span> │ add[<span style=\"color: #00af00; text-decoration-color: #00af00\">0</span>][<span style=\"color: #00af00; text-decoration-color: #00af00\">0</span>]         │\n",
       "├─────────────────────┼───────────────────┼────────────┼───────────────────┤\n",
       "│ flatten_1 (<span style=\"color: #0087ff; text-decoration-color: #0087ff\">Flatten</span>) │ (<span style=\"color: #00d7ff; text-decoration-color: #00d7ff\">None</span>, <span style=\"color: #00af00; text-decoration-color: #00af00\">57600</span>)     │          <span style=\"color: #00af00; text-decoration-color: #00af00\">0</span> │ dropout_5[<span style=\"color: #00af00; text-decoration-color: #00af00\">0</span>][<span style=\"color: #00af00; text-decoration-color: #00af00\">0</span>]   │\n",
       "├─────────────────────┼───────────────────┼────────────┼───────────────────┤\n",
       "│ dense (<span style=\"color: #0087ff; text-decoration-color: #0087ff\">Dense</span>)       │ (<span style=\"color: #00d7ff; text-decoration-color: #00d7ff\">None</span>, <span style=\"color: #00af00; text-decoration-color: #00af00\">1024</span>)      │ <span style=\"color: #00af00; text-decoration-color: #00af00\">58,983,424</span> │ flatten[<span style=\"color: #00af00; text-decoration-color: #00af00\">0</span>][<span style=\"color: #00af00; text-decoration-color: #00af00\">0</span>]     │\n",
       "├─────────────────────┼───────────────────┼────────────┼───────────────────┤\n",
       "│ dense_1 (<span style=\"color: #0087ff; text-decoration-color: #0087ff\">Dense</span>)     │ (<span style=\"color: #00d7ff; text-decoration-color: #00d7ff\">None</span>, <span style=\"color: #00af00; text-decoration-color: #00af00\">1024</span>)      │ <span style=\"color: #00af00; text-decoration-color: #00af00\">58,983,424</span> │ flatten_1[<span style=\"color: #00af00; text-decoration-color: #00af00\">0</span>][<span style=\"color: #00af00; text-decoration-color: #00af00\">0</span>]   │\n",
       "├─────────────────────┼───────────────────┼────────────┼───────────────────┤\n",
       "│ add_1 (<span style=\"color: #0087ff; text-decoration-color: #0087ff\">Add</span>)         │ (<span style=\"color: #00d7ff; text-decoration-color: #00d7ff\">None</span>, <span style=\"color: #00af00; text-decoration-color: #00af00\">1024</span>)      │          <span style=\"color: #00af00; text-decoration-color: #00af00\">0</span> │ dense[<span style=\"color: #00af00; text-decoration-color: #00af00\">0</span>][<span style=\"color: #00af00; text-decoration-color: #00af00\">0</span>],      │\n",
       "│                     │                   │            │ dense_1[<span style=\"color: #00af00; text-decoration-color: #00af00\">0</span>][<span style=\"color: #00af00; text-decoration-color: #00af00\">0</span>]     │\n",
       "├─────────────────────┼───────────────────┼────────────┼───────────────────┤\n",
       "│ dense_2 (<span style=\"color: #0087ff; text-decoration-color: #0087ff\">Dense</span>)     │ (<span style=\"color: #00d7ff; text-decoration-color: #00d7ff\">None</span>, <span style=\"color: #00af00; text-decoration-color: #00af00\">1024</span>)      │  <span style=\"color: #00af00; text-decoration-color: #00af00\">1,049,600</span> │ add_1[<span style=\"color: #00af00; text-decoration-color: #00af00\">0</span>][<span style=\"color: #00af00; text-decoration-color: #00af00\">0</span>]       │\n",
       "├─────────────────────┼───────────────────┼────────────┼───────────────────┤\n",
       "│ dense_3 (<span style=\"color: #0087ff; text-decoration-color: #0087ff\">Dense</span>)     │ (<span style=\"color: #00d7ff; text-decoration-color: #00d7ff\">None</span>, <span style=\"color: #00af00; text-decoration-color: #00af00\">9000</span>)      │  <span style=\"color: #00af00; text-decoration-color: #00af00\">9,225,000</span> │ dense_2[<span style=\"color: #00af00; text-decoration-color: #00af00\">0</span>][<span style=\"color: #00af00; text-decoration-color: #00af00\">0</span>]     │\n",
       "├─────────────────────┼───────────────────┼────────────┼───────────────────┤\n",
       "│ reshape (<span style=\"color: #0087ff; text-decoration-color: #0087ff\">Reshape</span>)   │ (<span style=\"color: #00d7ff; text-decoration-color: #00d7ff\">None</span>, <span style=\"color: #00af00; text-decoration-color: #00af00\">30</span>, <span style=\"color: #00af00; text-decoration-color: #00af00\">30</span>,    │          <span style=\"color: #00af00; text-decoration-color: #00af00\">0</span> │ dense_3[<span style=\"color: #00af00; text-decoration-color: #00af00\">0</span>][<span style=\"color: #00af00; text-decoration-color: #00af00\">0</span>]     │\n",
       "│                     │ <span style=\"color: #00af00; text-decoration-color: #00af00\">10</span>)               │            │                   │\n",
       "└─────────────────────┴───────────────────┴────────────┴───────────────────┘\n",
       "</pre>\n"
      ],
      "text/plain": [
       "┏━━━━━━━━━━━━━━━━━━━━━┳━━━━━━━━━━━━━━━━━━━┳━━━━━━━━━━━━┳━━━━━━━━━━━━━━━━━━━┓\n",
       "┃\u001b[1m \u001b[0m\u001b[1mLayer (type)       \u001b[0m\u001b[1m \u001b[0m┃\u001b[1m \u001b[0m\u001b[1mOutput Shape     \u001b[0m\u001b[1m \u001b[0m┃\u001b[1m \u001b[0m\u001b[1m   Param #\u001b[0m\u001b[1m \u001b[0m┃\u001b[1m \u001b[0m\u001b[1mConnected to     \u001b[0m\u001b[1m \u001b[0m┃\n",
       "┡━━━━━━━━━━━━━━━━━━━━━╇━━━━━━━━━━━━━━━━━━━╇━━━━━━━━━━━━╇━━━━━━━━━━━━━━━━━━━┩\n",
       "│ train_inputs        │ (\u001b[38;5;45mNone\u001b[0m, \u001b[38;5;34m30\u001b[0m, \u001b[38;5;34m30\u001b[0m,    │          \u001b[38;5;34m0\u001b[0m │ -                 │\n",
       "│ (\u001b[38;5;33mInputLayer\u001b[0m)        │ \u001b[38;5;34m10\u001b[0m)               │            │                   │\n",
       "├─────────────────────┼───────────────────┼────────────┼───────────────────┤\n",
       "│ train_outputs       │ (\u001b[38;5;45mNone\u001b[0m, \u001b[38;5;34m30\u001b[0m, \u001b[38;5;34m30\u001b[0m,    │          \u001b[38;5;34m0\u001b[0m │ -                 │\n",
       "│ (\u001b[38;5;33mInputLayer\u001b[0m)        │ \u001b[38;5;34m10\u001b[0m)               │            │                   │\n",
       "├─────────────────────┼───────────────────┼────────────┼───────────────────┤\n",
       "│ conv2d_2 (\u001b[38;5;33mConv2D\u001b[0m)   │ (\u001b[38;5;45mNone\u001b[0m, \u001b[38;5;34m30\u001b[0m, \u001b[38;5;34m30\u001b[0m,    │      \u001b[38;5;34m5,824\u001b[0m │ train_inputs[\u001b[38;5;34m0\u001b[0m][\u001b[38;5;34m…\u001b[0m │\n",
       "│                     │ \u001b[38;5;34m64\u001b[0m)               │            │                   │\n",
       "├─────────────────────┼───────────────────┼────────────┼───────────────────┤\n",
       "│ conv2d_3 (\u001b[38;5;33mConv2D\u001b[0m)   │ (\u001b[38;5;45mNone\u001b[0m, \u001b[38;5;34m30\u001b[0m, \u001b[38;5;34m30\u001b[0m,    │      \u001b[38;5;34m5,824\u001b[0m │ train_outputs[\u001b[38;5;34m0\u001b[0m]… │\n",
       "│                     │ \u001b[38;5;34m64\u001b[0m)               │            │                   │\n",
       "├─────────────────────┼───────────────────┼────────────┼───────────────────┤\n",
       "│ test_inputs         │ (\u001b[38;5;45mNone\u001b[0m, \u001b[38;5;34m30\u001b[0m, \u001b[38;5;34m30\u001b[0m,    │          \u001b[38;5;34m0\u001b[0m │ -                 │\n",
       "│ (\u001b[38;5;33mInputLayer\u001b[0m)        │ \u001b[38;5;34m10\u001b[0m)               │            │                   │\n",
       "├─────────────────────┼───────────────────┼────────────┼───────────────────┤\n",
       "│ batch_normalizatio… │ (\u001b[38;5;45mNone\u001b[0m, \u001b[38;5;34m30\u001b[0m, \u001b[38;5;34m30\u001b[0m,    │        \u001b[38;5;34m256\u001b[0m │ conv2d_2[\u001b[38;5;34m0\u001b[0m][\u001b[38;5;34m0\u001b[0m]    │\n",
       "│ (\u001b[38;5;33mBatchNormalizatio…\u001b[0m │ \u001b[38;5;34m64\u001b[0m)               │            │                   │\n",
       "├─────────────────────┼───────────────────┼────────────┼───────────────────┤\n",
       "│ batch_normalizatio… │ (\u001b[38;5;45mNone\u001b[0m, \u001b[38;5;34m30\u001b[0m, \u001b[38;5;34m30\u001b[0m,    │        \u001b[38;5;34m256\u001b[0m │ conv2d_3[\u001b[38;5;34m0\u001b[0m][\u001b[38;5;34m0\u001b[0m]    │\n",
       "│ (\u001b[38;5;33mBatchNormalizatio…\u001b[0m │ \u001b[38;5;34m64\u001b[0m)               │            │                   │\n",
       "├─────────────────────┼───────────────────┼────────────┼───────────────────┤\n",
       "│ conv2d_5 (\u001b[38;5;33mConv2D\u001b[0m)   │ (\u001b[38;5;45mNone\u001b[0m, \u001b[38;5;34m30\u001b[0m, \u001b[38;5;34m30\u001b[0m,    │      \u001b[38;5;34m5,824\u001b[0m │ test_inputs[\u001b[38;5;34m0\u001b[0m][\u001b[38;5;34m0\u001b[0m] │\n",
       "│                     │ \u001b[38;5;34m64\u001b[0m)               │            │                   │\n",
       "├─────────────────────┼───────────────────┼────────────┼───────────────────┤\n",
       "│ layer_normalizatio… │ (\u001b[38;5;45mNone\u001b[0m, \u001b[38;5;34m30\u001b[0m, \u001b[38;5;34m30\u001b[0m,    │        \u001b[38;5;34m128\u001b[0m │ batch_normalizat… │\n",
       "│ (\u001b[38;5;33mLayerNormalizatio…\u001b[0m │ \u001b[38;5;34m64\u001b[0m)               │            │                   │\n",
       "├─────────────────────┼───────────────────┼────────────┼───────────────────┤\n",
       "│ layer_normalizatio… │ (\u001b[38;5;45mNone\u001b[0m, \u001b[38;5;34m30\u001b[0m, \u001b[38;5;34m30\u001b[0m,    │        \u001b[38;5;34m128\u001b[0m │ batch_normalizat… │\n",
       "│ (\u001b[38;5;33mLayerNormalizatio…\u001b[0m │ \u001b[38;5;34m64\u001b[0m)               │            │                   │\n",
       "├─────────────────────┼───────────────────┼────────────┼───────────────────┤\n",
       "│ batch_normalizatio… │ (\u001b[38;5;45mNone\u001b[0m, \u001b[38;5;34m30\u001b[0m, \u001b[38;5;34m30\u001b[0m,    │        \u001b[38;5;34m256\u001b[0m │ conv2d_5[\u001b[38;5;34m0\u001b[0m][\u001b[38;5;34m0\u001b[0m]    │\n",
       "│ (\u001b[38;5;33mBatchNormalizatio…\u001b[0m │ \u001b[38;5;34m64\u001b[0m)               │            │                   │\n",
       "├─────────────────────┼───────────────────┼────────────┼───────────────────┤\n",
       "│ dropout_2 (\u001b[38;5;33mDropout\u001b[0m) │ (\u001b[38;5;45mNone\u001b[0m, \u001b[38;5;34m30\u001b[0m, \u001b[38;5;34m30\u001b[0m,    │          \u001b[38;5;34m0\u001b[0m │ layer_normalizat… │\n",
       "│                     │ \u001b[38;5;34m64\u001b[0m)               │            │                   │\n",
       "├─────────────────────┼───────────────────┼────────────┼───────────────────┤\n",
       "│ dropout_3 (\u001b[38;5;33mDropout\u001b[0m) │ (\u001b[38;5;45mNone\u001b[0m, \u001b[38;5;34m30\u001b[0m, \u001b[38;5;34m30\u001b[0m,    │          \u001b[38;5;34m0\u001b[0m │ layer_normalizat… │\n",
       "│                     │ \u001b[38;5;34m64\u001b[0m)               │            │                   │\n",
       "├─────────────────────┼───────────────────┼────────────┼───────────────────┤\n",
       "│ layer_normalizatio… │ (\u001b[38;5;45mNone\u001b[0m, \u001b[38;5;34m30\u001b[0m, \u001b[38;5;34m30\u001b[0m,    │        \u001b[38;5;34m128\u001b[0m │ batch_normalizat… │\n",
       "│ (\u001b[38;5;33mLayerNormalizatio…\u001b[0m │ \u001b[38;5;34m64\u001b[0m)               │            │                   │\n",
       "├─────────────────────┼───────────────────┼────────────┼───────────────────┤\n",
       "│ add (\u001b[38;5;33mAdd\u001b[0m)           │ (\u001b[38;5;45mNone\u001b[0m, \u001b[38;5;34m30\u001b[0m, \u001b[38;5;34m30\u001b[0m,    │          \u001b[38;5;34m0\u001b[0m │ dropout_2[\u001b[38;5;34m0\u001b[0m][\u001b[38;5;34m0\u001b[0m],  │\n",
       "│                     │ \u001b[38;5;34m64\u001b[0m)               │            │ dropout_3[\u001b[38;5;34m0\u001b[0m][\u001b[38;5;34m0\u001b[0m]   │\n",
       "├─────────────────────┼───────────────────┼────────────┼───────────────────┤\n",
       "│ dropout_5 (\u001b[38;5;33mDropout\u001b[0m) │ (\u001b[38;5;45mNone\u001b[0m, \u001b[38;5;34m30\u001b[0m, \u001b[38;5;34m30\u001b[0m,    │          \u001b[38;5;34m0\u001b[0m │ layer_normalizat… │\n",
       "│                     │ \u001b[38;5;34m64\u001b[0m)               │            │                   │\n",
       "├─────────────────────┼───────────────────┼────────────┼───────────────────┤\n",
       "│ flatten (\u001b[38;5;33mFlatten\u001b[0m)   │ (\u001b[38;5;45mNone\u001b[0m, \u001b[38;5;34m57600\u001b[0m)     │          \u001b[38;5;34m0\u001b[0m │ add[\u001b[38;5;34m0\u001b[0m][\u001b[38;5;34m0\u001b[0m]         │\n",
       "├─────────────────────┼───────────────────┼────────────┼───────────────────┤\n",
       "│ flatten_1 (\u001b[38;5;33mFlatten\u001b[0m) │ (\u001b[38;5;45mNone\u001b[0m, \u001b[38;5;34m57600\u001b[0m)     │          \u001b[38;5;34m0\u001b[0m │ dropout_5[\u001b[38;5;34m0\u001b[0m][\u001b[38;5;34m0\u001b[0m]   │\n",
       "├─────────────────────┼───────────────────┼────────────┼───────────────────┤\n",
       "│ dense (\u001b[38;5;33mDense\u001b[0m)       │ (\u001b[38;5;45mNone\u001b[0m, \u001b[38;5;34m1024\u001b[0m)      │ \u001b[38;5;34m58,983,424\u001b[0m │ flatten[\u001b[38;5;34m0\u001b[0m][\u001b[38;5;34m0\u001b[0m]     │\n",
       "├─────────────────────┼───────────────────┼────────────┼───────────────────┤\n",
       "│ dense_1 (\u001b[38;5;33mDense\u001b[0m)     │ (\u001b[38;5;45mNone\u001b[0m, \u001b[38;5;34m1024\u001b[0m)      │ \u001b[38;5;34m58,983,424\u001b[0m │ flatten_1[\u001b[38;5;34m0\u001b[0m][\u001b[38;5;34m0\u001b[0m]   │\n",
       "├─────────────────────┼───────────────────┼────────────┼───────────────────┤\n",
       "│ add_1 (\u001b[38;5;33mAdd\u001b[0m)         │ (\u001b[38;5;45mNone\u001b[0m, \u001b[38;5;34m1024\u001b[0m)      │          \u001b[38;5;34m0\u001b[0m │ dense[\u001b[38;5;34m0\u001b[0m][\u001b[38;5;34m0\u001b[0m],      │\n",
       "│                     │                   │            │ dense_1[\u001b[38;5;34m0\u001b[0m][\u001b[38;5;34m0\u001b[0m]     │\n",
       "├─────────────────────┼───────────────────┼────────────┼───────────────────┤\n",
       "│ dense_2 (\u001b[38;5;33mDense\u001b[0m)     │ (\u001b[38;5;45mNone\u001b[0m, \u001b[38;5;34m1024\u001b[0m)      │  \u001b[38;5;34m1,049,600\u001b[0m │ add_1[\u001b[38;5;34m0\u001b[0m][\u001b[38;5;34m0\u001b[0m]       │\n",
       "├─────────────────────┼───────────────────┼────────────┼───────────────────┤\n",
       "│ dense_3 (\u001b[38;5;33mDense\u001b[0m)     │ (\u001b[38;5;45mNone\u001b[0m, \u001b[38;5;34m9000\u001b[0m)      │  \u001b[38;5;34m9,225,000\u001b[0m │ dense_2[\u001b[38;5;34m0\u001b[0m][\u001b[38;5;34m0\u001b[0m]     │\n",
       "├─────────────────────┼───────────────────┼────────────┼───────────────────┤\n",
       "│ reshape (\u001b[38;5;33mReshape\u001b[0m)   │ (\u001b[38;5;45mNone\u001b[0m, \u001b[38;5;34m30\u001b[0m, \u001b[38;5;34m30\u001b[0m,    │          \u001b[38;5;34m0\u001b[0m │ dense_3[\u001b[38;5;34m0\u001b[0m][\u001b[38;5;34m0\u001b[0m]     │\n",
       "│                     │ \u001b[38;5;34m10\u001b[0m)               │            │                   │\n",
       "└─────────────────────┴───────────────────┴────────────┴───────────────────┘\n"
      ]
     },
     "metadata": {},
     "output_type": "display_data"
    },
    {
     "data": {
      "text/html": [
       "<pre style=\"white-space:pre;overflow-x:auto;line-height:normal;font-family:Menlo,'DejaVu Sans Mono',consolas,'Courier New',monospace\"><span style=\"font-weight: bold\"> Total params: </span><span style=\"color: #00af00; text-decoration-color: #00af00\">128,260,072</span> (489.27 MB)\n",
       "</pre>\n"
      ],
      "text/plain": [
       "\u001b[1m Total params: \u001b[0m\u001b[38;5;34m128,260,072\u001b[0m (489.27 MB)\n"
      ]
     },
     "metadata": {},
     "output_type": "display_data"
    },
    {
     "data": {
      "text/html": [
       "<pre style=\"white-space:pre;overflow-x:auto;line-height:normal;font-family:Menlo,'DejaVu Sans Mono',consolas,'Courier New',monospace\"><span style=\"font-weight: bold\"> Trainable params: </span><span style=\"color: #00af00; text-decoration-color: #00af00\">128,259,688</span> (489.27 MB)\n",
       "</pre>\n"
      ],
      "text/plain": [
       "\u001b[1m Trainable params: \u001b[0m\u001b[38;5;34m128,259,688\u001b[0m (489.27 MB)\n"
      ]
     },
     "metadata": {},
     "output_type": "display_data"
    },
    {
     "data": {
      "text/html": [
       "<pre style=\"white-space:pre;overflow-x:auto;line-height:normal;font-family:Menlo,'DejaVu Sans Mono',consolas,'Courier New',monospace\"><span style=\"font-weight: bold\"> Non-trainable params: </span><span style=\"color: #00af00; text-decoration-color: #00af00\">384</span> (1.50 KB)\n",
       "</pre>\n"
      ],
      "text/plain": [
       "\u001b[1m Non-trainable params: \u001b[0m\u001b[38;5;34m384\u001b[0m (1.50 KB)\n"
      ]
     },
     "metadata": {},
     "output_type": "display_data"
    }
   ],
   "source": [
    "import tensorflow as tf\n",
    "from tensorflow.keras import layers\n",
    "\n",
    "# Define the convolutional block with Batch Normalization, Layer Normalization, and specific initializers\n",
    "def conv_block(item):\n",
    "    # Define the initializers for Conv2D\n",
    "    kernel_initializer = tf.keras.initializers.RandomNormal(mean=0.0, stddev=0.2)\n",
    "    bias_initializer = tf.keras.initializers.Zeros()\n",
    "    \n",
    "    # Apply Conv2D with specified initializers\n",
    "    item_conved = layers.Conv2D(\n",
    "        filters=64,  # Example filter size, adjust as needed\n",
    "        kernel_size=(3, 3),  # Example kernel size, adjust as needed\n",
    "        padding='same',\n",
    "        kernel_initializer=kernel_initializer,\n",
    "        bias_initializer=bias_initializer\n",
    "    )(item)\n",
    "    \n",
    "#     item_conved = layers.MaxPooling2D(pool_size=(2, 2))(item_conved)\n",
    "    \n",
    "    # Apply Batch Normalization with specific initializers\n",
    "    item_conved = layers.BatchNormalization(\n",
    "        beta_initializer=tf.keras.initializers.RandomNormal(mean=0.0, stddev=0.2),\n",
    "        gamma_initializer=tf.keras.initializers.RandomNormal(mean=0.0, stddev=0.2)\n",
    "    )(item_conved)\n",
    "    \n",
    "    # Apply Layer Normalization with specific initializers\n",
    "    item_conved = layers.LayerNormalization(\n",
    "        beta_initializer=tf.keras.initializers.RandomNormal(mean=0.0, stddev=0.2),\n",
    "        gamma_initializer=tf.keras.initializers.RandomNormal(mean=0.0, stddev=0.2)\n",
    "    )(item_conved)\n",
    "    \n",
    "    # Apply Dropout\n",
    "    item_conved = layers.Dropout(rate=0.2)(item_conved)\n",
    "    \n",
    "    return item_conved\n",
    "\n",
    "def build_model(conv_cycling_train=2, conv_cycling_test=2):\n",
    "    max_channels = cfg.max_channels\n",
    "    # Take all input tensors\n",
    "    train_inputs = layers.Input(shape=[*cfg.max_size, max_channels], name='train_inputs')\n",
    "    train_outputs = layers.Input(shape=[*cfg.max_size, max_channels], name='train_outputs')\n",
    "    test_inputs = layers.Input(shape=[*cfg.max_size, max_channels], name='test_inputs')\n",
    "    \n",
    "    train_inputs_conved = None\n",
    "    train_outputs_conved = None \n",
    "    for i in range(conv_cycling_train):\n",
    "        train_inputs_conved = conv_block(train_inputs)\n",
    "        train_outputs_conved = conv_block(train_outputs)\n",
    "        \n",
    "    test_inputs_conved = None \n",
    "    for i in range(conv_cycling_test):\n",
    "        test_inputs_conved = conv_block(test_inputs)\n",
    "    \n",
    "    # Train data\n",
    "    train_ = layers.Add()([train_inputs_conved , train_outputs_conved ])\n",
    "    train_ = layers.Flatten()(train_)\n",
    "    train_ = layers.Dense(units=1024, activation='gelu')(train_)\n",
    "    \n",
    "    # Test data\n",
    "    test_ = layers.Flatten()(test_inputs_conved )\n",
    "    test_ = layers.Dense(units=1024, activation='gelu')(test_)\n",
    "    \n",
    "    # Merge train and test data\n",
    "    merged = layers.Add()([train_, test_])\n",
    "    merged = layers.Dense(units=1024, activation='gelu')(merged)\n",
    "    \n",
    "    # Final Dense layer to get 30x30 output\n",
    "    output = layers.Dense(units=cfg.max_size[0]*cfg.max_size[1]*cfg.max_channels, activation='softmax')(merged)\n",
    "    output = layers.Reshape([*cfg.max_size, max_channels])(output)\n",
    "    \n",
    "    model = tf.keras.models.Model(inputs=[train_inputs, train_outputs, test_inputs], outputs=output)\n",
    "    \n",
    "    return model\n",
    "\n",
    "main_model = build_model()\n",
    "main_model.summary()"
   ]
  },
  {
   "cell_type": "markdown",
   "id": "61d18553",
   "metadata": {
    "papermill": {
     "duration": 0.006517,
     "end_time": "2024-06-26T21:35:18.458676",
     "exception": false,
     "start_time": "2024-06-26T21:35:18.452159",
     "status": "completed"
    },
    "tags": []
   },
   "source": [
    "# Train"
   ]
  },
  {
   "cell_type": "code",
   "execution_count": 6,
   "id": "889961e7",
   "metadata": {
    "execution": {
     "iopub.execute_input": "2024-06-26T21:35:18.472942Z",
     "iopub.status.busy": "2024-06-26T21:35:18.472517Z",
     "iopub.status.idle": "2024-06-26T21:35:18.479785Z",
     "shell.execute_reply": "2024-06-26T21:35:18.478608Z"
    },
    "papermill": {
     "duration": 0.018094,
     "end_time": "2024-06-26T21:35:18.483024",
     "exception": false,
     "start_time": "2024-06-26T21:35:18.464930",
     "status": "completed"
    },
    "tags": []
   },
   "outputs": [],
   "source": [
    "class CustomLoss(tf.keras.losses.Loss):\n",
    "    def __init__(self, name=\"custom_categorical_loss\"):\n",
    "        super().__init__(name=name)\n",
    "        self.criterion = tf.keras.losses.CategoricalCrossentropy()\n",
    "\n",
    "    def call(self, y_true, y_pred):\n",
    "        # Ensure y_pred is in logits form if softmax is applied during the last layer of the model\n",
    "        y_true_flatten = layers.Flatten()(y_true)\n",
    "        y_pred_flatten = layers.Flatten()(y_pred)\n",
    "        \n",
    "        # Compute categorical crossentropy\n",
    "        loss = self.criterion(y_true, y_pred)\n",
    "        \n",
    "\n",
    "        return loss"
   ]
  },
  {
   "cell_type": "code",
   "execution_count": 7,
   "id": "9f8989b6",
   "metadata": {
    "execution": {
     "iopub.execute_input": "2024-06-26T21:35:18.498182Z",
     "iopub.status.busy": "2024-06-26T21:35:18.497012Z",
     "iopub.status.idle": "2024-06-26T21:35:18.513428Z",
     "shell.execute_reply": "2024-06-26T21:35:18.512153Z"
    },
    "papermill": {
     "duration": 0.026493,
     "end_time": "2024-06-26T21:35:18.515952",
     "exception": false,
     "start_time": "2024-06-26T21:35:18.489459",
     "status": "completed"
    },
    "tags": []
   },
   "outputs": [],
   "source": [
    "main_model.compile(optimizer='adam', \n",
    "              loss=CustomLoss(),\n",
    "              metrics=['accuracy'])"
   ]
  },
  {
   "cell_type": "code",
   "execution_count": 8,
   "id": "a8d9c775",
   "metadata": {
    "execution": {
     "iopub.execute_input": "2024-06-26T21:35:18.531049Z",
     "iopub.status.busy": "2024-06-26T21:35:18.530009Z",
     "iopub.status.idle": "2024-06-26T22:30:03.284869Z",
     "shell.execute_reply": "2024-06-26T22:30:03.282764Z"
    },
    "papermill": {
     "duration": 3284.765597,
     "end_time": "2024-06-26T22:30:03.288129",
     "exception": false,
     "start_time": "2024-06-26T21:35:18.522532",
     "status": "completed"
    },
    "tags": []
   },
   "outputs": [
    {
     "name": "stdout",
     "output_type": "stream",
     "text": [
      "Epoch 1/150\n",
      "\u001b[1m26/26\u001b[0m \u001b[32m━━━━━━━━━━━━━━━━━━━━\u001b[0m\u001b[37m\u001b[0m \u001b[1m43s\u001b[0m 1s/step - accuracy: 0.3382 - loss: 2.3868 - val_accuracy: 0.4938 - val_loss: 1.8088 - learning_rate: 0.0010\n",
      "Epoch 2/150\n",
      "\u001b[1m26/26\u001b[0m \u001b[32m━━━━━━━━━━━━━━━━━━━━\u001b[0m\u001b[37m\u001b[0m \u001b[1m35s\u001b[0m 1s/step - accuracy: 0.5159 - loss: 1.6062 - val_accuracy: 0.4960 - val_loss: 1.8102 - learning_rate: 0.0010\n",
      "Epoch 3/150\n",
      "\u001b[1m26/26\u001b[0m \u001b[32m━━━━━━━━━━━━━━━━━━━━\u001b[0m\u001b[37m\u001b[0m \u001b[1m41s\u001b[0m 1s/step - accuracy: 0.5303 - loss: 1.5425 - val_accuracy: 0.5005 - val_loss: 1.8461 - learning_rate: 0.0010\n",
      "Epoch 4/150\n",
      "\u001b[1m26/26\u001b[0m \u001b[32m━━━━━━━━━━━━━━━━━━━━\u001b[0m\u001b[37m\u001b[0m \u001b[1m35s\u001b[0m 1s/step - accuracy: 0.5498 - loss: 1.4730 - val_accuracy: 0.5348 - val_loss: 1.5625 - learning_rate: 0.0010\n",
      "Epoch 5/150\n",
      "\u001b[1m26/26\u001b[0m \u001b[32m━━━━━━━━━━━━━━━━━━━━\u001b[0m\u001b[37m\u001b[0m \u001b[1m35s\u001b[0m 1s/step - accuracy: 0.5725 - loss: 1.3824 - val_accuracy: 0.5417 - val_loss: 1.5421 - learning_rate: 0.0010\n",
      "Epoch 6/150\n",
      "\u001b[1m26/26\u001b[0m \u001b[32m━━━━━━━━━━━━━━━━━━━━\u001b[0m\u001b[37m\u001b[0m \u001b[1m35s\u001b[0m 1s/step - accuracy: 0.5913 - loss: 1.3088 - val_accuracy: 0.5494 - val_loss: 1.5146 - learning_rate: 0.0010\n",
      "Epoch 7/150\n",
      "\u001b[1m26/26\u001b[0m \u001b[32m━━━━━━━━━━━━━━━━━━━━\u001b[0m\u001b[37m\u001b[0m \u001b[1m35s\u001b[0m 1s/step - accuracy: 0.6146 - loss: 1.2140 - val_accuracy: 0.5427 - val_loss: 1.5355 - learning_rate: 0.0010\n",
      "Epoch 8/150\n",
      "\u001b[1m26/26\u001b[0m \u001b[32m━━━━━━━━━━━━━━━━━━━━\u001b[0m\u001b[37m\u001b[0m \u001b[1m41s\u001b[0m 1s/step - accuracy: 0.6355 - loss: 1.1238 - val_accuracy: 0.5431 - val_loss: 1.5448 - learning_rate: 0.0010\n",
      "Epoch 9/150\n",
      "\u001b[1m26/26\u001b[0m \u001b[32m━━━━━━━━━━━━━━━━━━━━\u001b[0m\u001b[37m\u001b[0m \u001b[1m42s\u001b[0m 1s/step - accuracy: 0.6785 - loss: 0.9868 - val_accuracy: 0.5441 - val_loss: 1.5465 - learning_rate: 0.0010\n",
      "Epoch 10/150\n",
      "\u001b[1m26/26\u001b[0m \u001b[32m━━━━━━━━━━━━━━━━━━━━\u001b[0m\u001b[37m\u001b[0m \u001b[1m41s\u001b[0m 1s/step - accuracy: 0.7122 - loss: 0.8686 - val_accuracy: 0.5338 - val_loss: 1.6116 - learning_rate: 0.0010\n",
      "Epoch 11/150\n",
      "\u001b[1m26/26\u001b[0m \u001b[32m━━━━━━━━━━━━━━━━━━━━\u001b[0m\u001b[37m\u001b[0m \u001b[1m36s\u001b[0m 1s/step - accuracy: 0.7503 - loss: 0.7512 - val_accuracy: 0.5326 - val_loss: 1.6758 - learning_rate: 7.0000e-04\n",
      "Epoch 12/150\n",
      "\u001b[1m26/26\u001b[0m \u001b[32m━━━━━━━━━━━━━━━━━━━━\u001b[0m\u001b[37m\u001b[0m \u001b[1m35s\u001b[0m 1s/step - accuracy: 0.7923 - loss: 0.6359 - val_accuracy: 0.5384 - val_loss: 1.7617 - learning_rate: 4.9000e-04\n",
      "Epoch 13/150\n",
      "\u001b[1m26/26\u001b[0m \u001b[32m━━━━━━━━━━━━━━━━━━━━\u001b[0m\u001b[37m\u001b[0m \u001b[1m36s\u001b[0m 1s/step - accuracy: 0.8164 - loss: 0.5676 - val_accuracy: 0.5295 - val_loss: 1.7599 - learning_rate: 3.4300e-04\n",
      "Epoch 14/150\n",
      "\u001b[1m26/26\u001b[0m \u001b[32m━━━━━━━━━━━━━━━━━━━━\u001b[0m\u001b[37m\u001b[0m \u001b[1m35s\u001b[0m 1s/step - accuracy: 0.8363 - loss: 0.5082 - val_accuracy: 0.5323 - val_loss: 1.7840 - learning_rate: 2.4010e-04\n",
      "Epoch 15/150\n",
      "\u001b[1m26/26\u001b[0m \u001b[32m━━━━━━━━━━━━━━━━━━━━\u001b[0m\u001b[37m\u001b[0m \u001b[1m36s\u001b[0m 1s/step - accuracy: 0.8536 - loss: 0.4577 - val_accuracy: 0.5332 - val_loss: 1.8252 - learning_rate: 1.6807e-04\n",
      "Epoch 16/150\n",
      "\u001b[1m26/26\u001b[0m \u001b[32m━━━━━━━━━━━━━━━━━━━━\u001b[0m\u001b[37m\u001b[0m \u001b[1m35s\u001b[0m 1s/step - accuracy: 0.8648 - loss: 0.4275 - val_accuracy: 0.5317 - val_loss: 1.8525 - learning_rate: 1.1765e-04\n",
      "Epoch 17/150\n",
      "\u001b[1m26/26\u001b[0m \u001b[32m━━━━━━━━━━━━━━━━━━━━\u001b[0m\u001b[37m\u001b[0m \u001b[1m41s\u001b[0m 1s/step - accuracy: 0.8693 - loss: 0.4142 - val_accuracy: 0.5324 - val_loss: 1.8744 - learning_rate: 8.2354e-05\n",
      "Epoch 18/150\n",
      "\u001b[1m26/26\u001b[0m \u001b[32m━━━━━━━━━━━━━━━━━━━━\u001b[0m\u001b[37m\u001b[0m \u001b[1m41s\u001b[0m 1s/step - accuracy: 0.8725 - loss: 0.3996 - val_accuracy: 0.5320 - val_loss: 1.8886 - learning_rate: 5.7648e-05\n",
      "Epoch 19/150\n",
      "\u001b[1m26/26\u001b[0m \u001b[32m━━━━━━━━━━━━━━━━━━━━\u001b[0m\u001b[37m\u001b[0m \u001b[1m41s\u001b[0m 1s/step - accuracy: 0.8733 - loss: 0.4004 - val_accuracy: 0.5319 - val_loss: 1.8996 - learning_rate: 4.0354e-05\n",
      "Epoch 20/150\n",
      "\u001b[1m26/26\u001b[0m \u001b[32m━━━━━━━━━━━━━━━━━━━━\u001b[0m\u001b[37m\u001b[0m \u001b[1m41s\u001b[0m 1s/step - accuracy: 0.8762 - loss: 0.3883 - val_accuracy: 0.5320 - val_loss: 1.9077 - learning_rate: 2.8248e-05\n",
      "Epoch 21/150\n",
      "\u001b[1m26/26\u001b[0m \u001b[32m━━━━━━━━━━━━━━━━━━━━\u001b[0m\u001b[37m\u001b[0m \u001b[1m41s\u001b[0m 1s/step - accuracy: 0.8785 - loss: 0.3850 - val_accuracy: 0.5317 - val_loss: 1.9140 - learning_rate: 1.9773e-05\n",
      "Epoch 22/150\n",
      "\u001b[1m26/26\u001b[0m \u001b[32m━━━━━━━━━━━━━━━━━━━━\u001b[0m\u001b[37m\u001b[0m \u001b[1m35s\u001b[0m 1s/step - accuracy: 0.8786 - loss: 0.3809 - val_accuracy: 0.5318 - val_loss: 1.9179 - learning_rate: 1.3841e-05\n",
      "Epoch 23/150\n",
      "\u001b[1m26/26\u001b[0m \u001b[32m━━━━━━━━━━━━━━━━━━━━\u001b[0m\u001b[37m\u001b[0m \u001b[1m41s\u001b[0m 1s/step - accuracy: 0.8810 - loss: 0.3762 - val_accuracy: 0.5314 - val_loss: 1.9209 - learning_rate: 9.6889e-06\n",
      "Epoch 24/150\n",
      "\u001b[1m26/26\u001b[0m \u001b[32m━━━━━━━━━━━━━━━━━━━━\u001b[0m\u001b[37m\u001b[0m \u001b[1m35s\u001b[0m 1s/step - accuracy: 0.8807 - loss: 0.3762 - val_accuracy: 0.5313 - val_loss: 1.9235 - learning_rate: 6.7822e-06\n",
      "Epoch 25/150\n",
      "\u001b[1m26/26\u001b[0m \u001b[32m━━━━━━━━━━━━━━━━━━━━\u001b[0m\u001b[37m\u001b[0m \u001b[1m35s\u001b[0m 1s/step - accuracy: 0.8801 - loss: 0.3779 - val_accuracy: 0.5313 - val_loss: 1.9252 - learning_rate: 4.7476e-06\n",
      "Epoch 26/150\n",
      "\u001b[1m26/26\u001b[0m \u001b[32m━━━━━━━━━━━━━━━━━━━━\u001b[0m\u001b[37m\u001b[0m \u001b[1m35s\u001b[0m 1s/step - accuracy: 0.8820 - loss: 0.3752 - val_accuracy: 0.5313 - val_loss: 1.9265 - learning_rate: 3.3233e-06\n",
      "Epoch 27/150\n",
      "\u001b[1m26/26\u001b[0m \u001b[32m━━━━━━━━━━━━━━━━━━━━\u001b[0m\u001b[37m\u001b[0m \u001b[1m41s\u001b[0m 1s/step - accuracy: 0.8822 - loss: 0.3742 - val_accuracy: 0.5313 - val_loss: 1.9274 - learning_rate: 2.3263e-06\n",
      "Epoch 28/150\n",
      "\u001b[1m26/26\u001b[0m \u001b[32m━━━━━━━━━━━━━━━━━━━━\u001b[0m\u001b[37m\u001b[0m \u001b[1m42s\u001b[0m 1s/step - accuracy: 0.8795 - loss: 0.3812 - val_accuracy: 0.5312 - val_loss: 1.9281 - learning_rate: 1.6284e-06\n",
      "Epoch 29/150\n",
      "\u001b[1m26/26\u001b[0m \u001b[32m━━━━━━━━━━━━━━━━━━━━\u001b[0m\u001b[37m\u001b[0m \u001b[1m35s\u001b[0m 1s/step - accuracy: 0.8821 - loss: 0.3764 - val_accuracy: 0.5312 - val_loss: 1.9288 - learning_rate: 1.1399e-06\n",
      "Epoch 30/150\n",
      "\u001b[1m26/26\u001b[0m \u001b[32m━━━━━━━━━━━━━━━━━━━━\u001b[0m\u001b[37m\u001b[0m \u001b[1m35s\u001b[0m 1s/step - accuracy: 0.8832 - loss: 0.3740 - val_accuracy: 0.5312 - val_loss: 1.9291 - learning_rate: 7.9792e-07\n",
      "Epoch 31/150\n",
      "\u001b[1m26/26\u001b[0m \u001b[32m━━━━━━━━━━━━━━━━━━━━\u001b[0m\u001b[37m\u001b[0m \u001b[1m41s\u001b[0m 1s/step - accuracy: 0.8830 - loss: 0.3707 - val_accuracy: 0.5312 - val_loss: 1.9293 - learning_rate: 5.5855e-07\n",
      "Epoch 32/150\n",
      "\u001b[1m26/26\u001b[0m \u001b[32m━━━━━━━━━━━━━━━━━━━━\u001b[0m\u001b[37m\u001b[0m \u001b[1m37s\u001b[0m 1s/step - accuracy: 0.8821 - loss: 0.3759 - val_accuracy: 0.5312 - val_loss: 1.9298 - learning_rate: 3.9098e-07\n",
      "Epoch 33/150\n",
      "\u001b[1m26/26\u001b[0m \u001b[32m━━━━━━━━━━━━━━━━━━━━\u001b[0m\u001b[37m\u001b[0m \u001b[1m35s\u001b[0m 1s/step - accuracy: 0.8828 - loss: 0.3752 - val_accuracy: 0.5312 - val_loss: 1.9301 - learning_rate: 2.7369e-07\n",
      "Epoch 34/150\n",
      "\u001b[1m26/26\u001b[0m \u001b[32m━━━━━━━━━━━━━━━━━━━━\u001b[0m\u001b[37m\u001b[0m \u001b[1m42s\u001b[0m 1s/step - accuracy: 0.8833 - loss: 0.3706 - val_accuracy: 0.5312 - val_loss: 1.9301 - learning_rate: 1.9158e-07\n",
      "Epoch 35/150\n",
      "\u001b[1m26/26\u001b[0m \u001b[32m━━━━━━━━━━━━━━━━━━━━\u001b[0m\u001b[37m\u001b[0m \u001b[1m41s\u001b[0m 1s/step - accuracy: 0.8832 - loss: 0.3742 - val_accuracy: 0.5311 - val_loss: 1.9302 - learning_rate: 1.3411e-07\n",
      "Epoch 36/150\n",
      "\u001b[1m26/26\u001b[0m \u001b[32m━━━━━━━━━━━━━━━━━━━━\u001b[0m\u001b[37m\u001b[0m \u001b[1m41s\u001b[0m 1s/step - accuracy: 0.8810 - loss: 0.3763 - val_accuracy: 0.5312 - val_loss: 1.9302 - learning_rate: 9.3875e-08\n",
      "Epoch 37/150\n",
      "\u001b[1m26/26\u001b[0m \u001b[32m━━━━━━━━━━━━━━━━━━━━\u001b[0m\u001b[37m\u001b[0m \u001b[1m36s\u001b[0m 1s/step - accuracy: 0.8805 - loss: 0.3756 - val_accuracy: 0.5312 - val_loss: 1.9302 - learning_rate: 6.5712e-08\n",
      "Epoch 38/150\n",
      "\u001b[1m26/26\u001b[0m \u001b[32m━━━━━━━━━━━━━━━━━━━━\u001b[0m\u001b[37m\u001b[0m \u001b[1m36s\u001b[0m 1s/step - accuracy: 0.8814 - loss: 0.3761 - val_accuracy: 0.5312 - val_loss: 1.9301 - learning_rate: 4.5999e-08\n",
      "Epoch 39/150\n",
      "\u001b[1m26/26\u001b[0m \u001b[32m━━━━━━━━━━━━━━━━━━━━\u001b[0m\u001b[37m\u001b[0m \u001b[1m36s\u001b[0m 1s/step - accuracy: 0.8840 - loss: 0.3709 - val_accuracy: 0.5312 - val_loss: 1.9301 - learning_rate: 3.2199e-08\n",
      "Epoch 40/150\n",
      "\u001b[1m26/26\u001b[0m \u001b[32m━━━━━━━━━━━━━━━━━━━━\u001b[0m\u001b[37m\u001b[0m \u001b[1m36s\u001b[0m 1s/step - accuracy: 0.8825 - loss: 0.3740 - val_accuracy: 0.5312 - val_loss: 1.9302 - learning_rate: 2.2539e-08\n",
      "Epoch 41/150\n",
      "\u001b[1m26/26\u001b[0m \u001b[32m━━━━━━━━━━━━━━━━━━━━\u001b[0m\u001b[37m\u001b[0m \u001b[1m42s\u001b[0m 1s/step - accuracy: 0.8828 - loss: 0.3726 - val_accuracy: 0.5312 - val_loss: 1.9302 - learning_rate: 1.5778e-08\n",
      "Epoch 42/150\n",
      "\u001b[1m26/26\u001b[0m \u001b[32m━━━━━━━━━━━━━━━━━━━━\u001b[0m\u001b[37m\u001b[0m \u001b[1m41s\u001b[0m 1s/step - accuracy: 0.8820 - loss: 0.3742 - val_accuracy: 0.5312 - val_loss: 1.9302 - learning_rate: 1.1044e-08\n",
      "Epoch 43/150\n",
      "\u001b[1m26/26\u001b[0m \u001b[32m━━━━━━━━━━━━━━━━━━━━\u001b[0m\u001b[37m\u001b[0m \u001b[1m40s\u001b[0m 1s/step - accuracy: 0.8841 - loss: 0.3712 - val_accuracy: 0.5312 - val_loss: 1.9301 - learning_rate: 7.7310e-09\n",
      "Epoch 44/150\n",
      "\u001b[1m26/26\u001b[0m \u001b[32m━━━━━━━━━━━━━━━━━━━━\u001b[0m\u001b[37m\u001b[0m \u001b[1m36s\u001b[0m 1s/step - accuracy: 0.8831 - loss: 0.3738 - val_accuracy: 0.5312 - val_loss: 1.9302 - learning_rate: 5.4117e-09\n",
      "Epoch 45/150\n",
      "\u001b[1m26/26\u001b[0m \u001b[32m━━━━━━━━━━━━━━━━━━━━\u001b[0m\u001b[37m\u001b[0m \u001b[1m35s\u001b[0m 1s/step - accuracy: 0.8813 - loss: 0.3765 - val_accuracy: 0.5312 - val_loss: 1.9302 - learning_rate: 3.7882e-09\n",
      "Epoch 46/150\n",
      "\u001b[1m26/26\u001b[0m \u001b[32m━━━━━━━━━━━━━━━━━━━━\u001b[0m\u001b[37m\u001b[0m \u001b[1m35s\u001b[0m 1s/step - accuracy: 0.8817 - loss: 0.3732 - val_accuracy: 0.5312 - val_loss: 1.9302 - learning_rate: 2.6517e-09\n",
      "Epoch 47/150\n",
      "\u001b[1m26/26\u001b[0m \u001b[32m━━━━━━━━━━━━━━━━━━━━\u001b[0m\u001b[37m\u001b[0m \u001b[1m41s\u001b[0m 1s/step - accuracy: 0.8843 - loss: 0.3704 - val_accuracy: 0.5312 - val_loss: 1.9301 - learning_rate: 1.8562e-09\n",
      "Epoch 48/150\n",
      "\u001b[1m26/26\u001b[0m \u001b[32m━━━━━━━━━━━━━━━━━━━━\u001b[0m\u001b[37m\u001b[0m \u001b[1m41s\u001b[0m 1s/step - accuracy: 0.8815 - loss: 0.3771 - val_accuracy: 0.5312 - val_loss: 1.9302 - learning_rate: 1.2993e-09\n",
      "Epoch 49/150\n",
      "\u001b[1m26/26\u001b[0m \u001b[32m━━━━━━━━━━━━━━━━━━━━\u001b[0m\u001b[37m\u001b[0m \u001b[1m36s\u001b[0m 1s/step - accuracy: 0.8828 - loss: 0.3739 - val_accuracy: 0.5312 - val_loss: 1.9301 - learning_rate: 9.0954e-10\n",
      "Epoch 50/150\n",
      "\u001b[1m26/26\u001b[0m \u001b[32m━━━━━━━━━━━━━━━━━━━━\u001b[0m\u001b[37m\u001b[0m \u001b[1m40s\u001b[0m 1s/step - accuracy: 0.8831 - loss: 0.3757 - val_accuracy: 0.5311 - val_loss: 1.9302 - learning_rate: 6.3668e-10\n",
      "Epoch 51/150\n",
      "\u001b[1m26/26\u001b[0m \u001b[32m━━━━━━━━━━━━━━━━━━━━\u001b[0m\u001b[37m\u001b[0m \u001b[1m37s\u001b[0m 1s/step - accuracy: 0.8826 - loss: 0.3734 - val_accuracy: 0.5312 - val_loss: 1.9301 - learning_rate: 4.4568e-10\n",
      "Epoch 52/150\n",
      "\u001b[1m26/26\u001b[0m \u001b[32m━━━━━━━━━━━━━━━━━━━━\u001b[0m\u001b[37m\u001b[0m \u001b[1m36s\u001b[0m 1s/step - accuracy: 0.8819 - loss: 0.3754 - val_accuracy: 0.5311 - val_loss: 1.9301 - learning_rate: 3.1197e-10\n",
      "Epoch 53/150\n",
      "\u001b[1m26/26\u001b[0m \u001b[32m━━━━━━━━━━━━━━━━━━━━\u001b[0m\u001b[37m\u001b[0m \u001b[1m36s\u001b[0m 1s/step - accuracy: 0.8815 - loss: 0.3743 - val_accuracy: 0.5311 - val_loss: 1.9302 - learning_rate: 2.1838e-10\n",
      "Epoch 54/150\n",
      "\u001b[1m26/26\u001b[0m \u001b[32m━━━━━━━━━━━━━━━━━━━━\u001b[0m\u001b[37m\u001b[0m \u001b[1m36s\u001b[0m 1s/step - accuracy: 0.8825 - loss: 0.3720 - val_accuracy: 0.5311 - val_loss: 1.9302 - learning_rate: 1.5287e-10\n",
      "Epoch 55/150\n",
      "\u001b[1m26/26\u001b[0m \u001b[32m━━━━━━━━━━━━━━━━━━━━\u001b[0m\u001b[37m\u001b[0m \u001b[1m38s\u001b[0m 1s/step - accuracy: 0.8824 - loss: 0.3724 - val_accuracy: 0.5311 - val_loss: 1.9302 - learning_rate: 1.0701e-10\n",
      "Epoch 56/150\n",
      "\u001b[1m26/26\u001b[0m \u001b[32m━━━━━━━━━━━━━━━━━━━━\u001b[0m\u001b[37m\u001b[0m \u001b[1m42s\u001b[0m 2s/step - accuracy: 0.8823 - loss: 0.3712 - val_accuracy: 0.5311 - val_loss: 1.9301 - learning_rate: 7.4905e-11\n",
      "Epoch 57/150\n",
      "\u001b[1m26/26\u001b[0m \u001b[32m━━━━━━━━━━━━━━━━━━━━\u001b[0m\u001b[37m\u001b[0m \u001b[1m40s\u001b[0m 2s/step - accuracy: 0.8799 - loss: 0.3805 - val_accuracy: 0.5311 - val_loss: 1.9301 - learning_rate: 5.2433e-11\n",
      "Epoch 58/150\n",
      "\u001b[1m26/26\u001b[0m \u001b[32m━━━━━━━━━━━━━━━━━━━━\u001b[0m\u001b[37m\u001b[0m \u001b[1m38s\u001b[0m 1s/step - accuracy: 0.8803 - loss: 0.3767 - val_accuracy: 0.5312 - val_loss: 1.9301 - learning_rate: 3.6703e-11\n",
      "Epoch 59/150\n",
      "\u001b[1m26/26\u001b[0m \u001b[32m━━━━━━━━━━━━━━━━━━━━\u001b[0m\u001b[37m\u001b[0m \u001b[1m41s\u001b[0m 1s/step - accuracy: 0.8818 - loss: 0.3736 - val_accuracy: 0.5312 - val_loss: 1.9299 - learning_rate: 2.5692e-11\n",
      "Epoch 60/150\n",
      "\u001b[1m26/26\u001b[0m \u001b[32m━━━━━━━━━━━━━━━━━━━━\u001b[0m\u001b[37m\u001b[0m \u001b[1m41s\u001b[0m 1s/step - accuracy: 0.8821 - loss: 0.3788 - val_accuracy: 0.5311 - val_loss: 1.9301 - learning_rate: 1.7985e-11\n",
      "Epoch 61/150\n",
      "\u001b[1m26/26\u001b[0m \u001b[32m━━━━━━━━━━━━━━━━━━━━\u001b[0m\u001b[37m\u001b[0m \u001b[1m41s\u001b[0m 1s/step - accuracy: 0.8805 - loss: 0.3775 - val_accuracy: 0.5312 - val_loss: 1.9303 - learning_rate: 1.2589e-11\n",
      "Epoch 62/150\n",
      "\u001b[1m26/26\u001b[0m \u001b[32m━━━━━━━━━━━━━━━━━━━━\u001b[0m\u001b[37m\u001b[0m \u001b[1m35s\u001b[0m 1s/step - accuracy: 0.8811 - loss: 0.3736 - val_accuracy: 0.5312 - val_loss: 1.9302 - learning_rate: 8.8125e-12\n",
      "Epoch 63/150\n",
      "\u001b[1m26/26\u001b[0m \u001b[32m━━━━━━━━━━━━━━━━━━━━\u001b[0m\u001b[37m\u001b[0m \u001b[1m36s\u001b[0m 1s/step - accuracy: 0.8819 - loss: 0.3720 - val_accuracy: 0.5312 - val_loss: 1.9301 - learning_rate: 6.1687e-12\n",
      "Epoch 64/150\n",
      "\u001b[1m26/26\u001b[0m \u001b[32m━━━━━━━━━━━━━━━━━━━━\u001b[0m\u001b[37m\u001b[0m \u001b[1m35s\u001b[0m 1s/step - accuracy: 0.8795 - loss: 0.3788 - val_accuracy: 0.5311 - val_loss: 1.9303 - learning_rate: 4.3181e-12\n",
      "Epoch 65/150\n",
      "\u001b[1m26/26\u001b[0m \u001b[32m━━━━━━━━━━━━━━━━━━━━\u001b[0m\u001b[37m\u001b[0m \u001b[1m35s\u001b[0m 1s/step - accuracy: 0.8805 - loss: 0.3780 - val_accuracy: 0.5312 - val_loss: 1.9302 - learning_rate: 3.0227e-12\n",
      "Epoch 66/150\n",
      "\u001b[1m26/26\u001b[0m \u001b[32m━━━━━━━━━━━━━━━━━━━━\u001b[0m\u001b[37m\u001b[0m \u001b[1m35s\u001b[0m 1s/step - accuracy: 0.8833 - loss: 0.3737 - val_accuracy: 0.5312 - val_loss: 1.9302 - learning_rate: 2.1159e-12\n",
      "Epoch 67/150\n",
      "\u001b[1m26/26\u001b[0m \u001b[32m━━━━━━━━━━━━━━━━━━━━\u001b[0m\u001b[37m\u001b[0m \u001b[1m41s\u001b[0m 1s/step - accuracy: 0.8831 - loss: 0.3763 - val_accuracy: 0.5311 - val_loss: 1.9301 - learning_rate: 1.4811e-12\n",
      "Epoch 68/150\n",
      "\u001b[1m26/26\u001b[0m \u001b[32m━━━━━━━━━━━━━━━━━━━━\u001b[0m\u001b[37m\u001b[0m \u001b[1m41s\u001b[0m 1s/step - accuracy: 0.8840 - loss: 0.3713 - val_accuracy: 0.5312 - val_loss: 1.9301 - learning_rate: 1.0368e-12\n",
      "Epoch 69/150\n",
      "\u001b[1m26/26\u001b[0m \u001b[32m━━━━━━━━━━━━━━━━━━━━\u001b[0m\u001b[37m\u001b[0m \u001b[1m40s\u001b[0m 1s/step - accuracy: 0.8809 - loss: 0.3782 - val_accuracy: 0.5312 - val_loss: 1.9302 - learning_rate: 7.2575e-13\n",
      "Epoch 70/150\n",
      "\u001b[1m26/26\u001b[0m \u001b[32m━━━━━━━━━━━━━━━━━━━━\u001b[0m\u001b[37m\u001b[0m \u001b[1m41s\u001b[0m 1s/step - accuracy: 0.8829 - loss: 0.3721 - val_accuracy: 0.5312 - val_loss: 1.9302 - learning_rate: 5.0802e-13\n",
      "Epoch 71/150\n",
      "\u001b[1m26/26\u001b[0m \u001b[32m━━━━━━━━━━━━━━━━━━━━\u001b[0m\u001b[37m\u001b[0m \u001b[1m41s\u001b[0m 1s/step - accuracy: 0.8815 - loss: 0.3749 - val_accuracy: 0.5312 - val_loss: 1.9301 - learning_rate: 3.5562e-13\n",
      "Epoch 72/150\n",
      "\u001b[1m26/26\u001b[0m \u001b[32m━━━━━━━━━━━━━━━━━━━━\u001b[0m\u001b[37m\u001b[0m \u001b[1m34s\u001b[0m 1s/step - accuracy: 0.8821 - loss: 0.3738 - val_accuracy: 0.5312 - val_loss: 1.9300 - learning_rate: 2.4893e-13\n",
      "Epoch 73/150\n",
      "\u001b[1m26/26\u001b[0m \u001b[32m━━━━━━━━━━━━━━━━━━━━\u001b[0m\u001b[37m\u001b[0m \u001b[1m35s\u001b[0m 1s/step - accuracy: 0.8815 - loss: 0.3774 - val_accuracy: 0.5312 - val_loss: 1.9301 - learning_rate: 1.7425e-13\n",
      "Epoch 74/150\n",
      "\u001b[1m26/26\u001b[0m \u001b[32m━━━━━━━━━━━━━━━━━━━━\u001b[0m\u001b[37m\u001b[0m \u001b[1m36s\u001b[0m 1s/step - accuracy: 0.8823 - loss: 0.3729 - val_accuracy: 0.5312 - val_loss: 1.9301 - learning_rate: 1.2198e-13\n",
      "Epoch 75/150\n",
      "\u001b[1m26/26\u001b[0m \u001b[32m━━━━━━━━━━━━━━━━━━━━\u001b[0m\u001b[37m\u001b[0m \u001b[1m37s\u001b[0m 1s/step - accuracy: 0.8817 - loss: 0.3750 - val_accuracy: 0.5312 - val_loss: 1.9302 - learning_rate: 8.5383e-14\n",
      "Epoch 76/150\n",
      "\u001b[1m26/26\u001b[0m \u001b[32m━━━━━━━━━━━━━━━━━━━━\u001b[0m\u001b[37m\u001b[0m \u001b[1m37s\u001b[0m 1s/step - accuracy: 0.8824 - loss: 0.3739 - val_accuracy: 0.5312 - val_loss: 1.9302 - learning_rate: 5.9768e-14\n",
      "Epoch 77/150\n",
      "\u001b[1m26/26\u001b[0m \u001b[32m━━━━━━━━━━━━━━━━━━━━\u001b[0m\u001b[37m\u001b[0m \u001b[1m36s\u001b[0m 1s/step - accuracy: 0.8812 - loss: 0.3778 - val_accuracy: 0.5312 - val_loss: 1.9301 - learning_rate: 4.1838e-14\n",
      "Epoch 78/150\n",
      "\u001b[1m26/26\u001b[0m \u001b[32m━━━━━━━━━━━━━━━━━━━━\u001b[0m\u001b[37m\u001b[0m \u001b[1m42s\u001b[0m 1s/step - accuracy: 0.8830 - loss: 0.3743 - val_accuracy: 0.5312 - val_loss: 1.9301 - learning_rate: 2.9286e-14\n",
      "Epoch 79/150\n",
      "\u001b[1m26/26\u001b[0m \u001b[32m━━━━━━━━━━━━━━━━━━━━\u001b[0m\u001b[37m\u001b[0m \u001b[1m36s\u001b[0m 1s/step - accuracy: 0.8829 - loss: 0.3749 - val_accuracy: 0.5312 - val_loss: 1.9300 - learning_rate: 2.0501e-14\n",
      "Epoch 80/150\n",
      "\u001b[1m26/26\u001b[0m \u001b[32m━━━━━━━━━━━━━━━━━━━━\u001b[0m\u001b[37m\u001b[0m \u001b[1m42s\u001b[0m 1s/step - accuracy: 0.8809 - loss: 0.3763 - val_accuracy: 0.5312 - val_loss: 1.9300 - learning_rate: 1.4350e-14\n",
      "Epoch 81/150\n",
      "\u001b[1m26/26\u001b[0m \u001b[32m━━━━━━━━━━━━━━━━━━━━\u001b[0m\u001b[37m\u001b[0m \u001b[1m38s\u001b[0m 1s/step - accuracy: 0.8825 - loss: 0.3731 - val_accuracy: 0.5311 - val_loss: 1.9300 - learning_rate: 1.0045e-14\n",
      "Epoch 82/150\n",
      "\u001b[1m26/26\u001b[0m \u001b[32m━━━━━━━━━━━━━━━━━━━━\u001b[0m\u001b[37m\u001b[0m \u001b[1m40s\u001b[0m 2s/step - accuracy: 0.8832 - loss: 0.3726 - val_accuracy: 0.5311 - val_loss: 1.9299 - learning_rate: 7.0317e-15\n",
      "Epoch 83/150\n",
      "\u001b[1m26/26\u001b[0m \u001b[32m━━━━━━━━━━━━━━━━━━━━\u001b[0m\u001b[37m\u001b[0m \u001b[1m37s\u001b[0m 1s/step - accuracy: 0.8809 - loss: 0.3768 - val_accuracy: 0.5312 - val_loss: 1.9300 - learning_rate: 4.9222e-15\n",
      "Epoch 84/150\n",
      "\u001b[1m26/26\u001b[0m \u001b[32m━━━━━━━━━━━━━━━━━━━━\u001b[0m\u001b[37m\u001b[0m \u001b[1m40s\u001b[0m 1s/step - accuracy: 0.8828 - loss: 0.3758 - val_accuracy: 0.5312 - val_loss: 1.9301 - learning_rate: 3.4455e-15\n",
      "Epoch 85/150\n",
      "\u001b[1m26/26\u001b[0m \u001b[32m━━━━━━━━━━━━━━━━━━━━\u001b[0m\u001b[37m\u001b[0m \u001b[1m41s\u001b[0m 1s/step - accuracy: 0.8811 - loss: 0.3752 - val_accuracy: 0.5312 - val_loss: 1.9302 - learning_rate: 2.4119e-15\n",
      "Epoch 86/150\n",
      "\u001b[1m26/26\u001b[0m \u001b[32m━━━━━━━━━━━━━━━━━━━━\u001b[0m\u001b[37m\u001b[0m \u001b[1m42s\u001b[0m 1s/step - accuracy: 0.8805 - loss: 0.3753 - val_accuracy: 0.5312 - val_loss: 1.9302 - learning_rate: 1.6883e-15\n"
     ]
    },
    {
     "data": {
      "text/plain": [
       "<keras.src.callbacks.history.History at 0x792e119f7cd0>"
      ]
     },
     "execution_count": 8,
     "metadata": {},
     "output_type": "execute_result"
    }
   ],
   "source": [
    "def scheduler(epoch, lr):\n",
    "    if epoch < 10:\n",
    "        return lr\n",
    "    else:\n",
    "        return lr * 0.7\n",
    "\n",
    "scheduler = keras.callbacks.LearningRateScheduler(scheduler) \n",
    "early_stopping = keras.callbacks.EarlyStopping(monitor = 'val_loss', \n",
    "                                               min_delta = 1e-4, \n",
    "                                               patience = cfg.early_stopping_patience, \n",
    "                                               restore_best_weights = True)\n",
    "\n",
    "main_model.fit(ds_train, \n",
    "               epochs = cfg.num_epoch, \n",
    "               validation_data = ds_validation, \n",
    "               callbacks = [\n",
    "                   scheduler, \n",
    "                   early_stopping,\n",
    "               ]\n",
    "              )"
   ]
  },
  {
   "cell_type": "markdown",
   "id": "0ec5a1bc",
   "metadata": {
    "papermill": {
     "duration": 0.189074,
     "end_time": "2024-06-26T22:30:03.664564",
     "exception": false,
     "start_time": "2024-06-26T22:30:03.475490",
     "status": "completed"
    },
    "tags": []
   },
   "source": [
    "# Make Submission"
   ]
  },
  {
   "cell_type": "code",
   "execution_count": 9,
   "id": "a5f90f60",
   "metadata": {
    "execution": {
     "iopub.execute_input": "2024-06-26T22:30:04.063689Z",
     "iopub.status.busy": "2024-06-26T22:30:04.063214Z",
     "iopub.status.idle": "2024-06-26T22:30:04.639451Z",
     "shell.execute_reply": "2024-06-26T22:30:04.637765Z"
    },
    "papermill": {
     "duration": 0.786779,
     "end_time": "2024-06-26T22:30:04.642166",
     "exception": false,
     "start_time": "2024-06-26T22:30:03.855387",
     "status": "completed"
    },
    "tags": []
   },
   "outputs": [],
   "source": [
    "X_test, _ = prepare1(cfg.test, only_one = False)\n",
    "ds_test = build_dataset(X_test, shuffle = False )"
   ]
  },
  {
   "cell_type": "code",
   "execution_count": 10,
   "id": "86f09993",
   "metadata": {
    "execution": {
     "iopub.execute_input": "2024-06-26T22:30:05.130643Z",
     "iopub.status.busy": "2024-06-26T22:30:05.130214Z",
     "iopub.status.idle": "2024-06-26T22:30:07.185200Z",
     "shell.execute_reply": "2024-06-26T22:30:07.181639Z"
    },
    "papermill": {
     "duration": 2.275243,
     "end_time": "2024-06-26T22:30:07.188713",
     "exception": false,
     "start_time": "2024-06-26T22:30:04.913470",
     "status": "completed"
    },
    "tags": []
   },
   "outputs": [],
   "source": [
    "predictions = list()\n",
    "\n",
    "for batch in ds_test: \n",
    "    prediction = main_model(batch)\n",
    "    predictions.extend([i for i in prediction.numpy()])"
   ]
  },
  {
   "cell_type": "code",
   "execution_count": 11,
   "id": "f483eeb3",
   "metadata": {
    "execution": {
     "iopub.execute_input": "2024-06-26T22:30:07.692190Z",
     "iopub.status.busy": "2024-06-26T22:30:07.691730Z",
     "iopub.status.idle": "2024-06-26T22:30:07.732849Z",
     "shell.execute_reply": "2024-06-26T22:30:07.730559Z"
    },
    "papermill": {
     "duration": 0.282727,
     "end_time": "2024-06-26T22:30:07.736197",
     "exception": false,
     "start_time": "2024-06-26T22:30:07.453470",
     "status": "completed"
    },
    "tags": []
   },
   "outputs": [],
   "source": [
    "actual_ids = list() \n",
    "actual_shapes = list()\n",
    "\n",
    "with open(cfg.test['inputs'], mode='r') as file: \n",
    "    data = json.load(file)\n",
    "    file.close() \n",
    "\n",
    "for k, v in data.items(): \n",
    "    test_input_num = len(v['test'])\n",
    "    \n",
    "    train_output_shape = [np.array(i['output']).shape for i in v['train'][:1]]\n",
    "    train_input_shape = [np.array(i['input']).shape for i in v['train'][:1]]\n",
    "    test_input_shape = [np.array(i['input']).shape for i in v['test'][:1]]\n",
    "    \n",
    "    target_shape = [(int(test_input_shape_[0] * (train_output_shape_[0] / train_input_shape_[0]))\n",
    "                     , int(test_input_shape_[1] * (train_output_shape_[1] / train_input_shape_[1])))\n",
    "                    for test_input_shape_, train_output_shape_, train_input_shape_ \n",
    "                        in zip(test_input_shape, train_output_shape, train_input_shape)]\n",
    "\n",
    "    \n",
    "    for i in range(test_input_num): \n",
    "        actual_shapes.extend(target_shape)\n",
    "        actual_ids.append(k)"
   ]
  },
  {
   "cell_type": "code",
   "execution_count": 12,
   "id": "6c39cd85",
   "metadata": {
    "execution": {
     "iopub.execute_input": "2024-06-26T22:30:08.225210Z",
     "iopub.status.busy": "2024-06-26T22:30:08.224769Z",
     "iopub.status.idle": "2024-06-26T22:30:08.242131Z",
     "shell.execute_reply": "2024-06-26T22:30:08.238538Z"
    },
    "papermill": {
     "duration": 0.274271,
     "end_time": "2024-06-26T22:30:08.245738",
     "exception": false,
     "start_time": "2024-06-26T22:30:07.971467",
     "status": "completed"
    },
    "tags": []
   },
   "outputs": [],
   "source": [
    "predictions_reshaped = [np.argmax(p, axis = -1) for p in predictions]\n",
    "predictions_reshaped = [cv2.resize(p.astype(np.uint8), t, interpolation=cv2.INTER_NEAREST) for p, t in zip(predictions_reshaped, actual_shapes)]"
   ]
  },
  {
   "cell_type": "code",
   "execution_count": 13,
   "id": "51666397",
   "metadata": {
    "execution": {
     "iopub.execute_input": "2024-06-26T22:30:08.744658Z",
     "iopub.status.busy": "2024-06-26T22:30:08.744243Z",
     "iopub.status.idle": "2024-06-26T22:30:08.758582Z",
     "shell.execute_reply": "2024-06-26T22:30:08.757002Z"
    },
    "papermill": {
     "duration": 0.275653,
     "end_time": "2024-06-26T22:30:08.761293",
     "exception": false,
     "start_time": "2024-06-26T22:30:08.485640",
     "status": "completed"
    },
    "tags": []
   },
   "outputs": [],
   "source": [
    "submission = dict() \n",
    "for i, p in zip(actual_ids, predictions_reshaped): \n",
    "    if i in submission.keys(): \n",
    "        ...\n",
    "    else: \n",
    "        submission[i] = list() \n",
    "        submission[i].append(dict())\n",
    "        \n",
    "        submission[i][0][f'attempt_1'] = p.tolist() \n",
    "        submission[i][0][f'attempt_2'] = p.tolist()         "
   ]
  },
  {
   "cell_type": "code",
   "execution_count": 14,
   "id": "e31909de",
   "metadata": {
    "execution": {
     "iopub.execute_input": "2024-06-26T22:30:09.168101Z",
     "iopub.status.busy": "2024-06-26T22:30:09.166549Z",
     "iopub.status.idle": "2024-06-26T22:30:09.211117Z",
     "shell.execute_reply": "2024-06-26T22:30:09.208794Z"
    },
    "papermill": {
     "duration": 0.242334,
     "end_time": "2024-06-26T22:30:09.214947",
     "exception": false,
     "start_time": "2024-06-26T22:30:08.972613",
     "status": "completed"
    },
    "tags": []
   },
   "outputs": [],
   "source": [
    "with open('submission.json', 'w') as file: \n",
    "    json.dump(obj = submission, fp = file)"
   ]
  }
 ],
 "metadata": {
  "kaggle": {
   "accelerator": "none",
   "dataSources": [
    {
     "databundleVersionId": 8951125,
     "sourceId": 67357,
     "sourceType": "competition"
    }
   ],
   "dockerImageVersionId": 30732,
   "isGpuEnabled": false,
   "isInternetEnabled": false,
   "language": "python",
   "sourceType": "notebook"
  },
  "kernelspec": {
   "display_name": "Python 3",
   "language": "python",
   "name": "python3"
  },
  "language_info": {
   "codemirror_mode": {
    "name": "ipython",
    "version": 3
   },
   "file_extension": ".py",
   "mimetype": "text/x-python",
   "name": "python",
   "nbconvert_exporter": "python",
   "pygments_lexer": "ipython3",
   "version": "3.10.13"
  },
  "papermill": {
   "default_parameters": {},
   "duration": 3315.534655,
   "end_time": "2024-06-26T22:30:12.541935",
   "environment_variables": {},
   "exception": null,
   "input_path": "__notebook__.ipynb",
   "output_path": "__notebook__.ipynb",
   "parameters": {},
   "start_time": "2024-06-26T21:34:57.007280",
   "version": "2.5.0"
  }
 },
 "nbformat": 4,
 "nbformat_minor": 5
}
